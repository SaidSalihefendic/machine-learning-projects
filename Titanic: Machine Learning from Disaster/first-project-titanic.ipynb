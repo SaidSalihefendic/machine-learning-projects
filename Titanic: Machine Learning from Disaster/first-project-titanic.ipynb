{
 "cells": [
  {
   "cell_type": "markdown",
   "metadata": {
    "_uuid": "cbd9a923f16b1689dcf29ec28f79e6edadc58699"
   },
   "source": [
    "# Titanic: Machine Learning from Disaster\n",
    "\n",
    "**------(NOTE)---------**\n",
    "\n",
    "*This notebook is not yet finished, as I will update this kernel further*\n",
    "\n",
    "**---------------------**\n",
    "\n",
    "In this notebook, we will explore the Titanic dataset where we want to find out what were the factors of survining and dying during ship sinking.\n",
    "\n",
    "We will do the following steps (**step** - done step):\n",
    "\n",
    "0. **Retrieve the data**\n",
    "1. Explore the data\n",
    "2. Preprocess the data\n",
    "3. Model the data\n",
    "4. Train and test the model\n",
    "5. Evalutaion and presentation\n",
    "\n",
    "We will cover all those steps using Python with its packages numpy, pandas, matplotlib and scikit-learn, maybe even use the PyTorch module later on."
   ]
  },
  {
   "cell_type": "markdown",
   "metadata": {
    "_uuid": "b729e95b4fb841f281149aafbde64578153b7a77"
   },
   "source": [
    "## Step 0: Retrieve the data and load\n",
    "\n",
    "We will retrieve Titanic Dataset from the Kaggle website https://www.kaggle.com/c/titanic, where we will use the simple API provided by the Kaggle that we will retrieve and read the data.\n",
    "\n",
    "Assuming we have downloaded the necessary data, it is time to load the data into the pandas dataframe. We will also include the packages right away that are needed for data exploration step."
   ]
  },
  {
   "cell_type": "code",
   "execution_count": 1,
   "metadata": {
    "_uuid": "a840c97d3f1d30ae4e01e52048c897e81d3d5fb5"
   },
   "outputs": [],
   "source": [
    "import pandas as pd\n",
    "import numpy as np\n",
    "import matplotlib.pyplot as plt\n",
    "\n",
    "%matplotlib notebook\n",
    "\n",
    "df = pd.read_csv('../input/train.csv')"
   ]
  },
  {
   "cell_type": "markdown",
   "metadata": {
    "_uuid": "ed05374ed8e47c3609f5794ca129ea8eed7213a4"
   },
   "source": [
    "Now that we have loaded the data, we will print the first 10 rows of data to see what we're dealing with. Also, we will test if there are any duplicate rows in the data."
   ]
  },
  {
   "cell_type": "code",
   "execution_count": 2,
   "metadata": {
    "_uuid": "8a14c8e9d945f8741675611af7e5b878ddf059a2"
   },
   "outputs": [
    {
     "data": {
      "text/html": [
       "<div>\n",
       "<style scoped>\n",
       "    .dataframe tbody tr th:only-of-type {\n",
       "        vertical-align: middle;\n",
       "    }\n",
       "\n",
       "    .dataframe tbody tr th {\n",
       "        vertical-align: top;\n",
       "    }\n",
       "\n",
       "    .dataframe thead th {\n",
       "        text-align: right;\n",
       "    }\n",
       "</style>\n",
       "<table border=\"1\" class=\"dataframe\">\n",
       "  <thead>\n",
       "    <tr style=\"text-align: right;\">\n",
       "      <th></th>\n",
       "      <th>PassengerId</th>\n",
       "      <th>Survived</th>\n",
       "      <th>Pclass</th>\n",
       "      <th>Name</th>\n",
       "      <th>Sex</th>\n",
       "      <th>Age</th>\n",
       "      <th>SibSp</th>\n",
       "      <th>Parch</th>\n",
       "      <th>Ticket</th>\n",
       "      <th>Fare</th>\n",
       "      <th>Cabin</th>\n",
       "      <th>Embarked</th>\n",
       "    </tr>\n",
       "  </thead>\n",
       "  <tbody>\n",
       "    <tr>\n",
       "      <th>0</th>\n",
       "      <td>1</td>\n",
       "      <td>0</td>\n",
       "      <td>3</td>\n",
       "      <td>Braund, Mr. Owen Harris</td>\n",
       "      <td>male</td>\n",
       "      <td>22.0</td>\n",
       "      <td>1</td>\n",
       "      <td>0</td>\n",
       "      <td>A/5 21171</td>\n",
       "      <td>7.2500</td>\n",
       "      <td>NaN</td>\n",
       "      <td>S</td>\n",
       "    </tr>\n",
       "    <tr>\n",
       "      <th>1</th>\n",
       "      <td>2</td>\n",
       "      <td>1</td>\n",
       "      <td>1</td>\n",
       "      <td>Cumings, Mrs. John Bradley (Florence Briggs Th...</td>\n",
       "      <td>female</td>\n",
       "      <td>38.0</td>\n",
       "      <td>1</td>\n",
       "      <td>0</td>\n",
       "      <td>PC 17599</td>\n",
       "      <td>71.2833</td>\n",
       "      <td>C85</td>\n",
       "      <td>C</td>\n",
       "    </tr>\n",
       "    <tr>\n",
       "      <th>2</th>\n",
       "      <td>3</td>\n",
       "      <td>1</td>\n",
       "      <td>3</td>\n",
       "      <td>Heikkinen, Miss. Laina</td>\n",
       "      <td>female</td>\n",
       "      <td>26.0</td>\n",
       "      <td>0</td>\n",
       "      <td>0</td>\n",
       "      <td>STON/O2. 3101282</td>\n",
       "      <td>7.9250</td>\n",
       "      <td>NaN</td>\n",
       "      <td>S</td>\n",
       "    </tr>\n",
       "    <tr>\n",
       "      <th>3</th>\n",
       "      <td>4</td>\n",
       "      <td>1</td>\n",
       "      <td>1</td>\n",
       "      <td>Futrelle, Mrs. Jacques Heath (Lily May Peel)</td>\n",
       "      <td>female</td>\n",
       "      <td>35.0</td>\n",
       "      <td>1</td>\n",
       "      <td>0</td>\n",
       "      <td>113803</td>\n",
       "      <td>53.1000</td>\n",
       "      <td>C123</td>\n",
       "      <td>S</td>\n",
       "    </tr>\n",
       "    <tr>\n",
       "      <th>4</th>\n",
       "      <td>5</td>\n",
       "      <td>0</td>\n",
       "      <td>3</td>\n",
       "      <td>Allen, Mr. William Henry</td>\n",
       "      <td>male</td>\n",
       "      <td>35.0</td>\n",
       "      <td>0</td>\n",
       "      <td>0</td>\n",
       "      <td>373450</td>\n",
       "      <td>8.0500</td>\n",
       "      <td>NaN</td>\n",
       "      <td>S</td>\n",
       "    </tr>\n",
       "    <tr>\n",
       "      <th>5</th>\n",
       "      <td>6</td>\n",
       "      <td>0</td>\n",
       "      <td>3</td>\n",
       "      <td>Moran, Mr. James</td>\n",
       "      <td>male</td>\n",
       "      <td>NaN</td>\n",
       "      <td>0</td>\n",
       "      <td>0</td>\n",
       "      <td>330877</td>\n",
       "      <td>8.4583</td>\n",
       "      <td>NaN</td>\n",
       "      <td>Q</td>\n",
       "    </tr>\n",
       "    <tr>\n",
       "      <th>6</th>\n",
       "      <td>7</td>\n",
       "      <td>0</td>\n",
       "      <td>1</td>\n",
       "      <td>McCarthy, Mr. Timothy J</td>\n",
       "      <td>male</td>\n",
       "      <td>54.0</td>\n",
       "      <td>0</td>\n",
       "      <td>0</td>\n",
       "      <td>17463</td>\n",
       "      <td>51.8625</td>\n",
       "      <td>E46</td>\n",
       "      <td>S</td>\n",
       "    </tr>\n",
       "    <tr>\n",
       "      <th>7</th>\n",
       "      <td>8</td>\n",
       "      <td>0</td>\n",
       "      <td>3</td>\n",
       "      <td>Palsson, Master. Gosta Leonard</td>\n",
       "      <td>male</td>\n",
       "      <td>2.0</td>\n",
       "      <td>3</td>\n",
       "      <td>1</td>\n",
       "      <td>349909</td>\n",
       "      <td>21.0750</td>\n",
       "      <td>NaN</td>\n",
       "      <td>S</td>\n",
       "    </tr>\n",
       "    <tr>\n",
       "      <th>8</th>\n",
       "      <td>9</td>\n",
       "      <td>1</td>\n",
       "      <td>3</td>\n",
       "      <td>Johnson, Mrs. Oscar W (Elisabeth Vilhelmina Berg)</td>\n",
       "      <td>female</td>\n",
       "      <td>27.0</td>\n",
       "      <td>0</td>\n",
       "      <td>2</td>\n",
       "      <td>347742</td>\n",
       "      <td>11.1333</td>\n",
       "      <td>NaN</td>\n",
       "      <td>S</td>\n",
       "    </tr>\n",
       "    <tr>\n",
       "      <th>9</th>\n",
       "      <td>10</td>\n",
       "      <td>1</td>\n",
       "      <td>2</td>\n",
       "      <td>Nasser, Mrs. Nicholas (Adele Achem)</td>\n",
       "      <td>female</td>\n",
       "      <td>14.0</td>\n",
       "      <td>1</td>\n",
       "      <td>0</td>\n",
       "      <td>237736</td>\n",
       "      <td>30.0708</td>\n",
       "      <td>NaN</td>\n",
       "      <td>C</td>\n",
       "    </tr>\n",
       "  </tbody>\n",
       "</table>\n",
       "</div>"
      ],
      "text/plain": [
       "   PassengerId  Survived  Pclass    ...        Fare Cabin  Embarked\n",
       "0            1         0       3    ...      7.2500   NaN         S\n",
       "1            2         1       1    ...     71.2833   C85         C\n",
       "2            3         1       3    ...      7.9250   NaN         S\n",
       "3            4         1       1    ...     53.1000  C123         S\n",
       "4            5         0       3    ...      8.0500   NaN         S\n",
       "5            6         0       3    ...      8.4583   NaN         Q\n",
       "6            7         0       1    ...     51.8625   E46         S\n",
       "7            8         0       3    ...     21.0750   NaN         S\n",
       "8            9         1       3    ...     11.1333   NaN         S\n",
       "9           10         1       2    ...     30.0708   NaN         C\n",
       "\n",
       "[10 rows x 12 columns]"
      ]
     },
     "execution_count": 2,
     "metadata": {},
     "output_type": "execute_result"
    }
   ],
   "source": [
    "df[:10]"
   ]
  },
  {
   "cell_type": "code",
   "execution_count": 3,
   "metadata": {
    "_uuid": "c28b1b2457a46c2239aa01519f06fc2a0c96f9bc"
   },
   "outputs": [
    {
     "data": {
      "text/plain": [
       "891"
      ]
     },
     "execution_count": 3,
     "metadata": {},
     "output_type": "execute_result"
    }
   ],
   "source": [
    "\n",
    "len(df)"
   ]
  },
  {
   "cell_type": "code",
   "execution_count": 4,
   "metadata": {
    "_uuid": "a9172d031ebeb435b50a03d1ad0867c7b7b60c34"
   },
   "outputs": [
    {
     "data": {
      "text/plain": [
       "False    891\n",
       "dtype: int64"
      ]
     },
     "execution_count": 4,
     "metadata": {},
     "output_type": "execute_result"
    }
   ],
   "source": [
    "df.duplicated().value_counts()"
   ]
  },
  {
   "cell_type": "code",
   "execution_count": 5,
   "metadata": {
    "_uuid": "f6855de7c47dfd2ed6f0721b405bed8ad9b7c249"
   },
   "outputs": [
    {
     "data": {
      "text/plain": [
       "True"
      ]
     },
     "execution_count": 5,
     "metadata": {},
     "output_type": "execute_result"
    }
   ],
   "source": [
    "df['PassengerId'].is_unique"
   ]
  },
  {
   "cell_type": "markdown",
   "metadata": {
    "_uuid": "e88e86f83fb87f3d498b4cedb0731a08e91f6d45"
   },
   "source": [
    "As we can see, there are no duplicate rows nor duplicate PassengerId, which means that each row is unique on its own and we don't need to disregard any data. We will test for each column if we don't have any data regarding to it in the next step."
   ]
  },
  {
   "cell_type": "markdown",
   "metadata": {
    "_uuid": "c78bd96d595e44fa98142bd7ebbc70f2434b85b3"
   },
   "source": [
    "## Step 1: Explore the data\n",
    "\n",
    "We will do some explorations, analytics and describe some events regarding this dataset. We will go now column by column, describing the data in the proces. First, we want to see how many survivors do we have in the dataset.\n",
    "\n",
    "We will do the following analysis of how much impact next columns has on survival rate of passengers:\n",
    "\n",
    "- Gender\n",
    "- Age group\n",
    "- Siblings/Spouse\n",
    "- Parents/Children\n",
    "- PClass\n",
    "- Fare\n",
    "- Cabin\n",
    "\n",
    "I believe that Name and Ticket are columns that have no impact on survival rate of each passenger. I don't think that certains names don't raise or lowers the chances of surviving a disaster, as well as tickets, since they are, in some ways, another ways of identification. Also, the Port of Embarkation also doesn't have an impact, since I believe that the location where passengers have entered the ship don't have that much significance. Even if we can find the correlation, for example, people who ported in Queenstown have higher chances of surviving, but that doesn't guarantee us for the next ship how will it behave. Instead, we want to analyze the traits of human being and its behaviour and location in the ship: How old is the passenger, does he/she have siblings, parents, children, where is he/she located in the ship, what gender is the passenger, cabin location and more.\n",
    "\n",
    "Of course, every next analytics will combine with previous, if needed, for further proving hypothesis'. I will list all analytics in this section and I will provide explanations why I will include or not include certain columns in modeling the data for predicting survival rate of passengers.\n",
    "\n",
    "For now, I have decided on next columns that will go in the preprocessing and modeling part of the project:\n",
    "\n",
    "- Sex\n",
    "- Age (engineered in age group)"
   ]
  },
  {
   "cell_type": "markdown",
   "metadata": {
    "_uuid": "61c8cae4332f4c8a7827b48a8586df53aaf5e1f5"
   },
   "source": [
    "### Gender analysis\n",
    "\n",
    "We want to see if the passengers are uniformly distributed or if there is some kind of correlation with the likelihood of surviving the accident. We will begin our research by seeking how many survivors do we, actually, have."
   ]
  },
  {
   "cell_type": "code",
   "execution_count": 6,
   "metadata": {
    "_uuid": "d4edf185aeb74dd8da9d0cc3bb2cff340a4009b0"
   },
   "outputs": [
    {
     "data": {
      "text/plain": [
       "0    549\n",
       "1    342\n",
       "Name: Survived, dtype: int64"
      ]
     },
     "execution_count": 6,
     "metadata": {},
     "output_type": "execute_result"
    }
   ],
   "source": [
    "survival = {0: 'Not Survived', 1: 'Survived'}\n",
    "\n",
    "df['Survived'].value_counts()"
   ]
  },
  {
   "cell_type": "markdown",
   "metadata": {
    "_uuid": "15efa7450c9c8955aebf52400ebde2fa9013be07"
   },
   "source": [
    "Let's normalize the input and calculate the proportion of those passengers who died and who survived."
   ]
  },
  {
   "cell_type": "code",
   "execution_count": 7,
   "metadata": {
    "_uuid": "fb65d47778b2815f68bfd94ea7dfa1abafff6862"
   },
   "outputs": [],
   "source": [
    "prop_survived = df['Survived'].value_counts() / len(df)\n"
   ]
  },
  {
   "cell_type": "code",
   "execution_count": 8,
   "metadata": {
    "_uuid": "cfc363322802a409d890f2e6e2142201fe8850e5"
   },
   "outputs": [
    {
     "name": "stdout",
     "output_type": "stream",
     "text": [
      "Not Survived    0.616162\n",
      "Survived        0.383838\n",
      "Name: Survived, dtype: float64\n"
     ]
    },
    {
     "data": {
      "text/plain": [
       "<matplotlib.axes._subplots.AxesSubplot at 0x7f18b45deb00>"
      ]
     },
     "execution_count": 8,
     "metadata": {},
     "output_type": "execute_result"
    },
    {
     "data": {
      "image/png": "[encoded data removed]",
      "text/plain": [
       "<Figure size 432x288 with 1 Axes>"
      ]
     },
     "metadata": {},
     "output_type": "display_data"
    }
   ],
   "source": [
    "prop_survived = prop_survived.rename(survival)\n",
    "print(prop_survived)\n",
    "\n",
    "prop_survived.plot(kind='bar', title='Survival rate')"
   ]
  },
  {
   "cell_type": "markdown",
   "metadata": {
    "_uuid": "96818e4aefecf55ecfc84d3e02bcc5e27e44864e"
   },
   "source": [
    "As we can see, we have around 61% who died during the Titanic sinking and around 38% survivors in our dataset.\n",
    "\n",
    "Our next step in our analytics is to measure the proportion of male and female passangers."
   ]
  },
  {
   "cell_type": "code",
   "execution_count": 9,
   "metadata": {
    "_uuid": "596b465033e4338d7b67e2ab8faadcb3fdec6879"
   },
   "outputs": [
    {
     "data": {
      "text/plain": [
       "0      male\n",
       "1    female\n",
       "2    female\n",
       "3    female\n",
       "4      male\n",
       "5      male\n",
       "6      male\n",
       "7      male\n",
       "8    female\n",
       "9    female\n",
       "Name: Sex, dtype: object"
      ]
     },
     "execution_count": 9,
     "metadata": {},
     "output_type": "execute_result"
    }
   ],
   "source": [
    "gender_data = df['Sex']\n",
    "\n",
    "gender_data[:10]"
   ]
  },
  {
   "cell_type": "code",
   "execution_count": 10,
   "metadata": {
    "_uuid": "7b91d5b2496c2d3e865cc0b1a9c1ab147fe774c7"
   },
   "outputs": [
    {
     "data": {
      "text/plain": [
       "False    891\n",
       "Name: Sex, dtype: int64"
      ]
     },
     "execution_count": 10,
     "metadata": {},
     "output_type": "execute_result"
    }
   ],
   "source": [
    "# We want to see whether we have NaN values for our genders\n",
    "gender_data.isna().value_counts()"
   ]
  },
  {
   "cell_type": "code",
   "execution_count": 11,
   "metadata": {
    "_uuid": "10f22dff6ae6e078114da76139d3ff135a6a827f"
   },
   "outputs": [],
   "source": [
    "prop_gender = gender_data.value_counts() / len(gender_data)"
   ]
  },
  {
   "cell_type": "code",
   "execution_count": 12,
   "metadata": {
    "_uuid": "1fc70f82d1dc0cf84d2f01e9a160f1238224b12d"
   },
   "outputs": [
    {
     "name": "stdout",
     "output_type": "stream",
     "text": [
      "male      0.647587\n",
      "female    0.352413\n",
      "Name: Sex, dtype: float64\n"
     ]
    }
   ],
   "source": [
    "print(prop_gender)"
   ]
  },
  {
   "cell_type": "markdown",
   "metadata": {
    "_uuid": "74408c567aaba2e1e2f4bfbe368092cb5cf30c4c"
   },
   "source": [
    "We have around 64% male and around 35% female passengers. Now we want to find out how many males and how many females survived in the sinking of Titanic."
   ]
  },
  {
   "cell_type": "code",
   "execution_count": 13,
   "metadata": {
    "_uuid": "12799940b814765e909c8d330764f6e0486018dd"
   },
   "outputs": [
    {
     "data": {
      "text/html": [
       "<div>\n",
       "<style scoped>\n",
       "    .dataframe tbody tr th:only-of-type {\n",
       "        vertical-align: middle;\n",
       "    }\n",
       "\n",
       "    .dataframe tbody tr th {\n",
       "        vertical-align: top;\n",
       "    }\n",
       "\n",
       "    .dataframe thead th {\n",
       "        text-align: right;\n",
       "    }\n",
       "</style>\n",
       "<table border=\"1\" class=\"dataframe\">\n",
       "  <thead>\n",
       "    <tr style=\"text-align: right;\">\n",
       "      <th></th>\n",
       "      <th>Sex</th>\n",
       "      <th>Survived</th>\n",
       "      <th>Count</th>\n",
       "    </tr>\n",
       "  </thead>\n",
       "  <tbody>\n",
       "    <tr>\n",
       "      <th>0</th>\n",
       "      <td>female</td>\n",
       "      <td>0</td>\n",
       "      <td>81</td>\n",
       "    </tr>\n",
       "    <tr>\n",
       "      <th>1</th>\n",
       "      <td>female</td>\n",
       "      <td>1</td>\n",
       "      <td>233</td>\n",
       "    </tr>\n",
       "    <tr>\n",
       "      <th>2</th>\n",
       "      <td>male</td>\n",
       "      <td>0</td>\n",
       "      <td>468</td>\n",
       "    </tr>\n",
       "    <tr>\n",
       "      <th>3</th>\n",
       "      <td>male</td>\n",
       "      <td>1</td>\n",
       "      <td>109</td>\n",
       "    </tr>\n",
       "  </tbody>\n",
       "</table>\n",
       "</div>"
      ],
      "text/plain": [
       "      Sex  Survived  Count\n",
       "0  female         0     81\n",
       "1  female         1    233\n",
       "2    male         0    468\n",
       "3    male         1    109"
      ]
     },
     "execution_count": 13,
     "metadata": {},
     "output_type": "execute_result"
    }
   ],
   "source": [
    "male_female_survived = df.groupby(by=['Sex', 'Survived']).size().reset_index().rename(columns={0: 'Count'})\n",
    "\n",
    "male_female_survived"
   ]
  },
  {
   "cell_type": "code",
   "execution_count": 14,
   "metadata": {
    "_uuid": "bf0570c016e4ed7dc45008b336a35e90b7c48693"
   },
   "outputs": [
    {
     "data": {
      "text/plain": [
       "Text(0.5,1,'Survival rate by Gender')"
      ]
     },
     "execution_count": 14,
     "metadata": {},
     "output_type": "execute_result"
    },
    {
     "data": {
      "image/png": "[encoded data removed]",
      "text/plain": [
       "<Figure size 432x288 with 1 Axes>"
      ]
     },
     "metadata": {},
     "output_type": "display_data"
    }
   ],
   "source": [
    "import seaborn as sns\n",
    "\n",
    "sns.barplot(x='Sex', y='Count', hue='Survived', data=male_female_survived).set_title('Survival rate by Gender')"
   ]
  },
  {
   "cell_type": "code",
   "execution_count": 15,
   "metadata": {
    "_uuid": "e7329a66fd4236ecc03370360c4fa6db2f47dd23"
   },
   "outputs": [
    {
     "name": "stdout",
     "output_type": "stream",
     "text": [
      "      Sex  Survived  Percentage\n",
      "0  female         0    0.090909\n",
      "1  female         1    0.261504\n",
      "2    male         0    0.525253\n",
      "3    male         1    0.122334\n"
     ]
    }
   ],
   "source": [
    "# now we calculate the percentage\n",
    "prop_male_female_survived = male_female_survived.copy()\n",
    "\n",
    "prop_male_female_survived['Count'] = prop_male_female_survived['Count'] / prop_male_female_survived['Count'].sum()\n",
    "prop_male_female_survived.rename(columns={'Count': 'Percentage'}, inplace=True)\n",
    "\n",
    "print(prop_male_female_survived)"
   ]
  },
  {
   "cell_type": "markdown",
   "metadata": {
    "_uuid": "529b3c11857c00f005ea95189988498fa16f5f0b"
   },
   "source": [
    "We can see that the majority of population that have not survived during the Titanic sinking are males, which means that if a person is a male, according to the analysis, the chances of surviving is minimum.\n",
    "\n",
    "We will test out how many males have survived, then the females."
   ]
  },
  {
   "cell_type": "code",
   "execution_count": 16,
   "metadata": {
    "_uuid": "bd36971938fdafbef80f43350955f911362c48b3"
   },
   "outputs": [
    {
     "data": {
      "text/plain": [
       "577"
      ]
     },
     "execution_count": 16,
     "metadata": {},
     "output_type": "execute_result"
    }
   ],
   "source": [
    "male_survived = df[df['Sex'] == 'male']\n",
    "\n",
    "len(male_survived)"
   ]
  },
  {
   "cell_type": "code",
   "execution_count": 17,
   "metadata": {
    "_uuid": "9dccc1fea48c9ed3bcb785b273ff0c68c13a8c9a"
   },
   "outputs": [
    {
     "data": {
      "text/plain": [
       "<matplotlib.axes._subplots.AxesSubplot at 0x7f1892aa4208>"
      ]
     },
     "execution_count": 17,
     "metadata": {},
     "output_type": "execute_result"
    },
    {
     "data": {
      "image/png": "[encoded data removed]",
      "text/plain": [
       "<Figure size 432x288 with 1 Axes>"
      ]
     },
     "metadata": {},
     "output_type": "display_data"
    }
   ],
   "source": [
    "male_survived['Survived'].value_counts().rename(survival).plot(kind='bar', title='Survival rate of Male Passengers')"
   ]
  },
  {
   "cell_type": "code",
   "execution_count": 18,
   "metadata": {
    "_uuid": "14106607020e4d1520e2c85874b9380958287fae"
   },
   "outputs": [
    {
     "data": {
      "text/plain": [
       "Not Survived    0.811092\n",
       "Survived        0.188908\n",
       "Name: Survived, dtype: float64"
      ]
     },
     "execution_count": 18,
     "metadata": {},
     "output_type": "execute_result"
    }
   ],
   "source": [
    "prop_male_survive = male_survived['Survived'].value_counts().rename(survival) / len(male_survived)\n",
    "prop_male_survive"
   ]
  },
  {
   "cell_type": "markdown",
   "metadata": {
    "_uuid": "be17d5f021e3d7c897e927175ffc97537e5e2c6f"
   },
   "source": [
    "Now we can see, looking only at the males, that we have over 80% casualties. Let's look at the female passengers."
   ]
  },
  {
   "cell_type": "code",
   "execution_count": 19,
   "metadata": {
    "_uuid": "ebfb5079b818870647e26f9f07d3bf1ef4920b2a"
   },
   "outputs": [
    {
     "data": {
      "text/plain": [
       "314"
      ]
     },
     "execution_count": 19,
     "metadata": {},
     "output_type": "execute_result"
    }
   ],
   "source": [
    "female_survived = df[df['Sex'] == 'female']\n",
    "\n",
    "len(female_survived)"
   ]
  },
  {
   "cell_type": "code",
   "execution_count": 20,
   "metadata": {
    "_uuid": "a581331ef35afb675e02ea000737569905043780"
   },
   "outputs": [
    {
     "data": {
      "text/plain": [
       "<matplotlib.axes._subplots.AxesSubplot at 0x7f1892a717f0>"
      ]
     },
     "execution_count": 20,
     "metadata": {},
     "output_type": "execute_result"
    },
    {
     "data": {
      "image/png": "[encoded data removed]",
      "text/plain": [
       "<Figure size 432x288 with 1 Axes>"
      ]
     },
     "metadata": {},
     "output_type": "display_data"
    }
   ],
   "source": [
    "female_survived['Survived'].value_counts().rename(survival).plot(kind='bar', title='Survival rate of Female Passengers')"
   ]
  },
  {
   "cell_type": "code",
   "execution_count": 21,
   "metadata": {
    "_uuid": "66b6dbbf871f71fb634dfa79d7a78cf6ec090291"
   },
   "outputs": [
    {
     "data": {
      "text/plain": [
       "Survived        0.742038\n",
       "Not Survived    0.257962\n",
       "Name: Survived, dtype: float64"
      ]
     },
     "execution_count": 21,
     "metadata": {},
     "output_type": "execute_result"
    }
   ],
   "source": [
    "prop_female_survive = female_survived['Survived'].value_counts().rename(survival) / len(female_survived)\n",
    "prop_female_survive"
   ]
  },
  {
   "cell_type": "markdown",
   "metadata": {
    "_uuid": "e163b7ce8f867518132a953328e2ff969d372536"
   },
   "source": [
    "In contrast, looking at the females, we have just under 75% female passengers that have survived the disaster, meaning that the sex plays a significant role whether a passenger will survive or not."
   ]
  },
  {
   "cell_type": "markdown",
   "metadata": {
    "_uuid": "b9c3a239cdcae7587bc603910a57789166a6f559"
   },
   "source": [
    "### Age group analysis\n",
    "\n",
    "As we have seen, the gender plays a big role of determining the chance of surviving favouring female passengers.\n",
    "\n",
    "We will divide age groups with the following:\n",
    "0. minimum_age - 14\n",
    "1. 15 - 24\n",
    "2. 25 - 40\n",
    "3. 41 - 65\n",
    "4. 65 - max_age\n",
    "\n",
    "Not every passenger has an age provided, so we will calculate how many passengers do not have the age provided."
   ]
  },
  {
   "cell_type": "code",
   "execution_count": 22,
   "metadata": {
    "_uuid": "6f89bb0049118141349f2115b7081d861d6f135c"
   },
   "outputs": [
    {
     "data": {
      "text/plain": [
       "False    714\n",
       "True     177\n",
       "Name: Age, dtype: int64"
      ]
     },
     "execution_count": 22,
     "metadata": {},
     "output_type": "execute_result"
    }
   ],
   "source": [
    "# dividing into age groups\n",
    "df['Age'].isna().value_counts()\n"
   ]
  },
  {
   "cell_type": "code",
   "execution_count": 23,
   "metadata": {
    "_uuid": "de77425cd5c298b99bb526fdf9bf23d4390c24da"
   },
   "outputs": [
    {
     "data": {
      "text/plain": [
       "count    714.000000\n",
       "mean      29.699118\n",
       "std       14.526497\n",
       "min        0.420000\n",
       "25%       20.125000\n",
       "50%       28.000000\n",
       "75%       38.000000\n",
       "max       80.000000\n",
       "Name: Age, dtype: float64"
      ]
     },
     "execution_count": 23,
     "metadata": {},
     "output_type": "execute_result"
    }
   ],
   "source": [
    "df['Age'].describe()"
   ]
  },
  {
   "cell_type": "markdown",
   "metadata": {
    "_uuid": "c7006ba6ea121ca93b7bcb99b639c8733ecdbb9e"
   },
   "source": [
    "We can see that there are a somewhat significant portion of passengers with no provided age, so we will calculate the mean of other ages. We also see that the age is not consistent, so we will try to group them in age groups, as specified before"
   ]
  },
  {
   "cell_type": "code",
   "execution_count": 24,
   "metadata": {
    "_uuid": "9ff2ec862b825327c945d25034e1ca9413d1f158"
   },
   "outputs": [],
   "source": [
    "from math import modf\n",
    "\n",
    "# We want the integer part of the mean to take for fillna()\n",
    "# We also will not change the df, so we will save it to df_modified\n",
    "\n",
    "# For now, we will assume they are all in the mean\n",
    "# Note: Include deviation part?\n",
    "df_modified = df[['PassengerId', 'Survived', 'Sex', 'Age']].copy()\n",
    "\n",
    "df_modified['Age'] = df_modified['Age'].fillna(modf(df['Age'][df['Age'].notna()].mean())[1])"
   ]
  },
  {
   "cell_type": "code",
   "execution_count": 25,
   "metadata": {
    "_uuid": "c38f1a217eebd138e4ae7b2fe38d3ac709111a8d"
   },
   "outputs": [
    {
     "data": {
      "text/html": [
       "<div>\n",
       "<style scoped>\n",
       "    .dataframe tbody tr th:only-of-type {\n",
       "        vertical-align: middle;\n",
       "    }\n",
       "\n",
       "    .dataframe tbody tr th {\n",
       "        vertical-align: top;\n",
       "    }\n",
       "\n",
       "    .dataframe thead th {\n",
       "        text-align: right;\n",
       "    }\n",
       "</style>\n",
       "<table border=\"1\" class=\"dataframe\">\n",
       "  <thead>\n",
       "    <tr style=\"text-align: right;\">\n",
       "      <th></th>\n",
       "      <th>PassengerId</th>\n",
       "      <th>Survived</th>\n",
       "      <th>Sex</th>\n",
       "      <th>Age</th>\n",
       "    </tr>\n",
       "  </thead>\n",
       "  <tbody>\n",
       "    <tr>\n",
       "      <th>881</th>\n",
       "      <td>882</td>\n",
       "      <td>0</td>\n",
       "      <td>male</td>\n",
       "      <td>33.0</td>\n",
       "    </tr>\n",
       "    <tr>\n",
       "      <th>882</th>\n",
       "      <td>883</td>\n",
       "      <td>0</td>\n",
       "      <td>female</td>\n",
       "      <td>22.0</td>\n",
       "    </tr>\n",
       "    <tr>\n",
       "      <th>883</th>\n",
       "      <td>884</td>\n",
       "      <td>0</td>\n",
       "      <td>male</td>\n",
       "      <td>28.0</td>\n",
       "    </tr>\n",
       "    <tr>\n",
       "      <th>884</th>\n",
       "      <td>885</td>\n",
       "      <td>0</td>\n",
       "      <td>male</td>\n",
       "      <td>25.0</td>\n",
       "    </tr>\n",
       "    <tr>\n",
       "      <th>885</th>\n",
       "      <td>886</td>\n",
       "      <td>0</td>\n",
       "      <td>female</td>\n",
       "      <td>39.0</td>\n",
       "    </tr>\n",
       "    <tr>\n",
       "      <th>886</th>\n",
       "      <td>887</td>\n",
       "      <td>0</td>\n",
       "      <td>male</td>\n",
       "      <td>27.0</td>\n",
       "    </tr>\n",
       "    <tr>\n",
       "      <th>887</th>\n",
       "      <td>888</td>\n",
       "      <td>1</td>\n",
       "      <td>female</td>\n",
       "      <td>19.0</td>\n",
       "    </tr>\n",
       "    <tr>\n",
       "      <th>888</th>\n",
       "      <td>889</td>\n",
       "      <td>0</td>\n",
       "      <td>female</td>\n",
       "      <td>29.0</td>\n",
       "    </tr>\n",
       "    <tr>\n",
       "      <th>889</th>\n",
       "      <td>890</td>\n",
       "      <td>1</td>\n",
       "      <td>male</td>\n",
       "      <td>26.0</td>\n",
       "    </tr>\n",
       "    <tr>\n",
       "      <th>890</th>\n",
       "      <td>891</td>\n",
       "      <td>0</td>\n",
       "      <td>male</td>\n",
       "      <td>32.0</td>\n",
       "    </tr>\n",
       "  </tbody>\n",
       "</table>\n",
       "</div>"
      ],
      "text/plain": [
       "     PassengerId  Survived     Sex   Age\n",
       "881          882         0    male  33.0\n",
       "882          883         0  female  22.0\n",
       "883          884         0    male  28.0\n",
       "884          885         0    male  25.0\n",
       "885          886         0  female  39.0\n",
       "886          887         0    male  27.0\n",
       "887          888         1  female  19.0\n",
       "888          889         0  female  29.0\n",
       "889          890         1    male  26.0\n",
       "890          891         0    male  32.0"
      ]
     },
     "execution_count": 25,
     "metadata": {},
     "output_type": "execute_result"
    }
   ],
   "source": [
    "df_modified[-10:]"
   ]
  },
  {
   "cell_type": "markdown",
   "metadata": {
    "_uuid": "ae206f0ca0aa1c7d978fa2cb1800105128369638"
   },
   "source": [
    "Now that we have filled the gaps in the missing age data, we will now add a new column that will add to the age group. We will define a function that will assign each passenger to it's age group. We have seen that the oldest passenger was 80 years old at the time, so that will make the last age group 65-81."
   ]
  },
  {
   "cell_type": "code",
   "execution_count": 26,
   "metadata": {
    "_uuid": "537927d8e45f7356ddfb647d025aa5b52d6225bb"
   },
   "outputs": [],
   "source": [
    "# 0 - [0 -15)\n",
    "# 1 - [15 - 25)\n",
    "# 2 - [25 - 40)\n",
    "# 3 - [40 - 65)\n",
    "# 4 - [65 - 81)\n",
    "\n",
    "# Age groups here are left_inclusive\n",
    "\n",
    "# NOTE: Check to do it with pd.Categorical type\n",
    "\n",
    "age_groups = {0: (0, 15), 1: (15, 25), 2: (25, 40), 3: (40, 65), 4: (65, 81)}\n",
    "\n",
    "def which_age_group(x):\n",
    "    for key, age_group in age_groups.items():\n",
    "        if x >= age_group[0] and x < age_group[1]:\n",
    "            return key\n",
    "\n",
    "df_modified['AgeGroup'] = df_modified['Age'].apply(which_age_group).astype('int64')"
   ]
  },
  {
   "cell_type": "code",
   "execution_count": 27,
   "metadata": {
    "_uuid": "38986efd72e612ecde0d0094fb3daa63069feb3c"
   },
   "outputs": [
    {
     "data": {
      "text/html": [
       "<div>\n",
       "<style scoped>\n",
       "    .dataframe tbody tr th:only-of-type {\n",
       "        vertical-align: middle;\n",
       "    }\n",
       "\n",
       "    .dataframe tbody tr th {\n",
       "        vertical-align: top;\n",
       "    }\n",
       "\n",
       "    .dataframe thead th {\n",
       "        text-align: right;\n",
       "    }\n",
       "</style>\n",
       "<table border=\"1\" class=\"dataframe\">\n",
       "  <thead>\n",
       "    <tr style=\"text-align: right;\">\n",
       "      <th></th>\n",
       "      <th>PassengerId</th>\n",
       "      <th>Survived</th>\n",
       "      <th>Sex</th>\n",
       "      <th>Age</th>\n",
       "      <th>AgeGroup</th>\n",
       "    </tr>\n",
       "  </thead>\n",
       "  <tbody>\n",
       "    <tr>\n",
       "      <th>0</th>\n",
       "      <td>1</td>\n",
       "      <td>0</td>\n",
       "      <td>male</td>\n",
       "      <td>22.0</td>\n",
       "      <td>1</td>\n",
       "    </tr>\n",
       "    <tr>\n",
       "      <th>1</th>\n",
       "      <td>2</td>\n",
       "      <td>1</td>\n",
       "      <td>female</td>\n",
       "      <td>38.0</td>\n",
       "      <td>2</td>\n",
       "    </tr>\n",
       "    <tr>\n",
       "      <th>2</th>\n",
       "      <td>3</td>\n",
       "      <td>1</td>\n",
       "      <td>female</td>\n",
       "      <td>26.0</td>\n",
       "      <td>2</td>\n",
       "    </tr>\n",
       "    <tr>\n",
       "      <th>3</th>\n",
       "      <td>4</td>\n",
       "      <td>1</td>\n",
       "      <td>female</td>\n",
       "      <td>35.0</td>\n",
       "      <td>2</td>\n",
       "    </tr>\n",
       "    <tr>\n",
       "      <th>4</th>\n",
       "      <td>5</td>\n",
       "      <td>0</td>\n",
       "      <td>male</td>\n",
       "      <td>35.0</td>\n",
       "      <td>2</td>\n",
       "    </tr>\n",
       "    <tr>\n",
       "      <th>5</th>\n",
       "      <td>6</td>\n",
       "      <td>0</td>\n",
       "      <td>male</td>\n",
       "      <td>29.0</td>\n",
       "      <td>2</td>\n",
       "    </tr>\n",
       "    <tr>\n",
       "      <th>6</th>\n",
       "      <td>7</td>\n",
       "      <td>0</td>\n",
       "      <td>male</td>\n",
       "      <td>54.0</td>\n",
       "      <td>3</td>\n",
       "    </tr>\n",
       "    <tr>\n",
       "      <th>7</th>\n",
       "      <td>8</td>\n",
       "      <td>0</td>\n",
       "      <td>male</td>\n",
       "      <td>2.0</td>\n",
       "      <td>0</td>\n",
       "    </tr>\n",
       "    <tr>\n",
       "      <th>8</th>\n",
       "      <td>9</td>\n",
       "      <td>1</td>\n",
       "      <td>female</td>\n",
       "      <td>27.0</td>\n",
       "      <td>2</td>\n",
       "    </tr>\n",
       "    <tr>\n",
       "      <th>9</th>\n",
       "      <td>10</td>\n",
       "      <td>1</td>\n",
       "      <td>female</td>\n",
       "      <td>14.0</td>\n",
       "      <td>0</td>\n",
       "    </tr>\n",
       "  </tbody>\n",
       "</table>\n",
       "</div>"
      ],
      "text/plain": [
       "   PassengerId  Survived     Sex   Age  AgeGroup\n",
       "0            1         0    male  22.0         1\n",
       "1            2         1  female  38.0         2\n",
       "2            3         1  female  26.0         2\n",
       "3            4         1  female  35.0         2\n",
       "4            5         0    male  35.0         2\n",
       "5            6         0    male  29.0         2\n",
       "6            7         0    male  54.0         3\n",
       "7            8         0    male   2.0         0\n",
       "8            9         1  female  27.0         2\n",
       "9           10         1  female  14.0         0"
      ]
     },
     "execution_count": 27,
     "metadata": {},
     "output_type": "execute_result"
    }
   ],
   "source": [
    "df_modified[:10]"
   ]
  },
  {
   "cell_type": "markdown",
   "metadata": {
    "_uuid": "9b39e5f4b03fde7a8d31f0a47e5b07be0f16a37a"
   },
   "source": [
    "Now that we have assigned to each passenger it's AgeGroup, it is time to do some analytics and draw some conclusions. Let see how many have passengers we have for each age group."
   ]
  },
  {
   "cell_type": "code",
   "execution_count": 28,
   "metadata": {
    "_uuid": "53d6dc38f6ce5568b6d40f91799acbdcd1feede0"
   },
   "outputs": [
    {
     "name": "stdout",
     "output_type": "stream",
     "text": [
      "AgeGroup\n",
      "(0, 15)      78\n",
      "(15, 25)    200\n",
      "(25, 40)    450\n",
      "(40, 65)    152\n",
      "(65, 81)     11\n",
      "dtype: int64\n"
     ]
    },
    {
     "data": {
      "text/plain": [
       "<matplotlib.axes._subplots.AxesSubplot at 0x7f18929daac8>"
      ]
     },
     "execution_count": 28,
     "metadata": {},
     "output_type": "execute_result"
    },
    {
     "data": {
      "image/png": "[encoded data removed]",
      "text/plain": [
       "<Figure size 432x288 with 1 Axes>"
      ]
     },
     "metadata": {},
     "output_type": "display_data"
    }
   ],
   "source": [
    "print(df_modified.groupby('AgeGroup').size().rename(age_groups))\n",
    "\n",
    "df_modified.groupby('AgeGroup').size().rename(age_groups).plot(kind='bar', title='Number of passengers by Age Group')"
   ]
  },
  {
   "cell_type": "markdown",
   "metadata": {
    "_uuid": "25d194fea221bce8573bb1417b8c6e103bc103a7"
   },
   "source": [
    "It is remarkably similar to the normal distribution of age groups in the population of given passengers. Let's see how many have survived for each age group and calculate their percentages."
   ]
  },
  {
   "cell_type": "code",
   "execution_count": 29,
   "metadata": {
    "_uuid": "514fe642040921d1497e46289055f22107fe84c4"
   },
   "outputs": [],
   "source": [
    "# looking at the whole population\n",
    "\n",
    "age_group_survive = df_modified.groupby(['AgeGroup', 'Survived']).size().reset_index().rename(columns={0: 'Count'})"
   ]
  },
  {
   "cell_type": "code",
   "execution_count": 30,
   "metadata": {
    "_uuid": "0bbf871e8dcf80cf694f6e5a6650425cc414d5da"
   },
   "outputs": [],
   "source": [
    "# To get sense of which age group we are talking about, not looking at indices\n",
    "\n",
    "age_group_survive['AgeGroup'] = age_group_survive['AgeGroup'].apply(lambda x: age_groups[x])"
   ]
  },
  {
   "cell_type": "code",
   "execution_count": 31,
   "metadata": {
    "_uuid": "6b77f8bc4f94a1a5815ecd36f218b082bcbf4fe8"
   },
   "outputs": [
    {
     "data": {
      "text/html": [
       "<div>\n",
       "<style scoped>\n",
       "    .dataframe tbody tr th:only-of-type {\n",
       "        vertical-align: middle;\n",
       "    }\n",
       "\n",
       "    .dataframe tbody tr th {\n",
       "        vertical-align: top;\n",
       "    }\n",
       "\n",
       "    .dataframe thead th {\n",
       "        text-align: right;\n",
       "    }\n",
       "</style>\n",
       "<table border=\"1\" class=\"dataframe\">\n",
       "  <thead>\n",
       "    <tr style=\"text-align: right;\">\n",
       "      <th></th>\n",
       "      <th>AgeGroup</th>\n",
       "      <th>Survived</th>\n",
       "      <th>Count</th>\n",
       "    </tr>\n",
       "  </thead>\n",
       "  <tbody>\n",
       "    <tr>\n",
       "      <th>0</th>\n",
       "      <td>(0, 15)</td>\n",
       "      <td>0</td>\n",
       "      <td>33</td>\n",
       "    </tr>\n",
       "    <tr>\n",
       "      <th>1</th>\n",
       "      <td>(0, 15)</td>\n",
       "      <td>1</td>\n",
       "      <td>45</td>\n",
       "    </tr>\n",
       "    <tr>\n",
       "      <th>2</th>\n",
       "      <td>(15, 25)</td>\n",
       "      <td>0</td>\n",
       "      <td>127</td>\n",
       "    </tr>\n",
       "    <tr>\n",
       "      <th>3</th>\n",
       "      <td>(15, 25)</td>\n",
       "      <td>1</td>\n",
       "      <td>73</td>\n",
       "    </tr>\n",
       "    <tr>\n",
       "      <th>4</th>\n",
       "      <td>(25, 40)</td>\n",
       "      <td>0</td>\n",
       "      <td>287</td>\n",
       "    </tr>\n",
       "    <tr>\n",
       "      <th>5</th>\n",
       "      <td>(25, 40)</td>\n",
       "      <td>1</td>\n",
       "      <td>163</td>\n",
       "    </tr>\n",
       "    <tr>\n",
       "      <th>6</th>\n",
       "      <td>(40, 65)</td>\n",
       "      <td>0</td>\n",
       "      <td>92</td>\n",
       "    </tr>\n",
       "    <tr>\n",
       "      <th>7</th>\n",
       "      <td>(40, 65)</td>\n",
       "      <td>1</td>\n",
       "      <td>60</td>\n",
       "    </tr>\n",
       "    <tr>\n",
       "      <th>8</th>\n",
       "      <td>(65, 81)</td>\n",
       "      <td>0</td>\n",
       "      <td>10</td>\n",
       "    </tr>\n",
       "    <tr>\n",
       "      <th>9</th>\n",
       "      <td>(65, 81)</td>\n",
       "      <td>1</td>\n",
       "      <td>1</td>\n",
       "    </tr>\n",
       "  </tbody>\n",
       "</table>\n",
       "</div>"
      ],
      "text/plain": [
       "   AgeGroup  Survived  Count\n",
       "0   (0, 15)         0     33\n",
       "1   (0, 15)         1     45\n",
       "2  (15, 25)         0    127\n",
       "3  (15, 25)         1     73\n",
       "4  (25, 40)         0    287\n",
       "5  (25, 40)         1    163\n",
       "6  (40, 65)         0     92\n",
       "7  (40, 65)         1     60\n",
       "8  (65, 81)         0     10\n",
       "9  (65, 81)         1      1"
      ]
     },
     "execution_count": 31,
     "metadata": {},
     "output_type": "execute_result"
    }
   ],
   "source": [
    "age_group_survive"
   ]
  },
  {
   "cell_type": "code",
   "execution_count": 32,
   "metadata": {
    "_uuid": "044b3d4c3bf39bee6cb7f7cdd0759703749792d8"
   },
   "outputs": [],
   "source": [
    "age_group_survive['Survived'] = age_group_survive['Survived'].apply(lambda x: survival[x])"
   ]
  },
  {
   "cell_type": "code",
   "execution_count": 33,
   "metadata": {
    "_uuid": "54f6527e2b613013533773b54ca63662bedfc08a"
   },
   "outputs": [
    {
     "data": {
      "text/html": [
       "<div>\n",
       "<style scoped>\n",
       "    .dataframe tbody tr th:only-of-type {\n",
       "        vertical-align: middle;\n",
       "    }\n",
       "\n",
       "    .dataframe tbody tr th {\n",
       "        vertical-align: top;\n",
       "    }\n",
       "\n",
       "    .dataframe thead th {\n",
       "        text-align: right;\n",
       "    }\n",
       "</style>\n",
       "<table border=\"1\" class=\"dataframe\">\n",
       "  <thead>\n",
       "    <tr style=\"text-align: right;\">\n",
       "      <th></th>\n",
       "      <th>AgeGroup</th>\n",
       "      <th>Survived</th>\n",
       "      <th>Count</th>\n",
       "    </tr>\n",
       "  </thead>\n",
       "  <tbody>\n",
       "    <tr>\n",
       "      <th>0</th>\n",
       "      <td>(0, 15)</td>\n",
       "      <td>Not Survived</td>\n",
       "      <td>33</td>\n",
       "    </tr>\n",
       "    <tr>\n",
       "      <th>1</th>\n",
       "      <td>(0, 15)</td>\n",
       "      <td>Survived</td>\n",
       "      <td>45</td>\n",
       "    </tr>\n",
       "    <tr>\n",
       "      <th>2</th>\n",
       "      <td>(15, 25)</td>\n",
       "      <td>Not Survived</td>\n",
       "      <td>127</td>\n",
       "    </tr>\n",
       "    <tr>\n",
       "      <th>3</th>\n",
       "      <td>(15, 25)</td>\n",
       "      <td>Survived</td>\n",
       "      <td>73</td>\n",
       "    </tr>\n",
       "    <tr>\n",
       "      <th>4</th>\n",
       "      <td>(25, 40)</td>\n",
       "      <td>Not Survived</td>\n",
       "      <td>287</td>\n",
       "    </tr>\n",
       "    <tr>\n",
       "      <th>5</th>\n",
       "      <td>(25, 40)</td>\n",
       "      <td>Survived</td>\n",
       "      <td>163</td>\n",
       "    </tr>\n",
       "    <tr>\n",
       "      <th>6</th>\n",
       "      <td>(40, 65)</td>\n",
       "      <td>Not Survived</td>\n",
       "      <td>92</td>\n",
       "    </tr>\n",
       "    <tr>\n",
       "      <th>7</th>\n",
       "      <td>(40, 65)</td>\n",
       "      <td>Survived</td>\n",
       "      <td>60</td>\n",
       "    </tr>\n",
       "    <tr>\n",
       "      <th>8</th>\n",
       "      <td>(65, 81)</td>\n",
       "      <td>Not Survived</td>\n",
       "      <td>10</td>\n",
       "    </tr>\n",
       "    <tr>\n",
       "      <th>9</th>\n",
       "      <td>(65, 81)</td>\n",
       "      <td>Survived</td>\n",
       "      <td>1</td>\n",
       "    </tr>\n",
       "  </tbody>\n",
       "</table>\n",
       "</div>"
      ],
      "text/plain": [
       "   AgeGroup      Survived  Count\n",
       "0   (0, 15)  Not Survived     33\n",
       "1   (0, 15)      Survived     45\n",
       "2  (15, 25)  Not Survived    127\n",
       "3  (15, 25)      Survived     73\n",
       "4  (25, 40)  Not Survived    287\n",
       "5  (25, 40)      Survived    163\n",
       "6  (40, 65)  Not Survived     92\n",
       "7  (40, 65)      Survived     60\n",
       "8  (65, 81)  Not Survived     10\n",
       "9  (65, 81)      Survived      1"
      ]
     },
     "execution_count": 33,
     "metadata": {},
     "output_type": "execute_result"
    }
   ],
   "source": [
    "age_group_survive"
   ]
  },
  {
   "cell_type": "code",
   "execution_count": 34,
   "metadata": {
    "_uuid": "e71f4d7a242c4144eb04a5cda02b52cc341478c4"
   },
   "outputs": [
    {
     "data": {
      "text/plain": [
       "Text(0.5,1,'Survival rate by Age Group')"
      ]
     },
     "execution_count": 34,
     "metadata": {},
     "output_type": "execute_result"
    },
    {
     "data": {
      "image/png": "[encoded data removed]",
      "text/plain": [
       "<Figure size 432x288 with 1 Axes>"
      ]
     },
     "metadata": {},
     "output_type": "display_data"
    }
   ],
   "source": [
    "sns.barplot(x='AgeGroup', y='Count', hue='Survived', data=age_group_survive).set_title('Survival rate by Age Group')"
   ]
  },
  {
   "cell_type": "markdown",
   "metadata": {
    "_uuid": "ff89e8ce227c64285a987bb42244250de9fe7377"
   },
   "source": [
    "We can see that there were a lot of casualties in every age group except the children age group (0, 15), which is not surprising. We will extend these analytics by providing the sex as a key.\n",
    "\n",
    "First, we will see how many passengers of different sex do we have in each age group"
   ]
  },
  {
   "cell_type": "code",
   "execution_count": 35,
   "metadata": {
    "_uuid": "b6ea574da67cae9253ba7462350dd6454b340705"
   },
   "outputs": [],
   "source": [
    "age_group_by_sex = df_modified.groupby(['AgeGroup', 'Sex', 'Survived']).size().reset_index().rename(columns={0: 'Count'})"
   ]
  },
  {
   "cell_type": "code",
   "execution_count": 36,
   "metadata": {
    "_uuid": "808d13ab2d41340ffcc1637ec3e3a7e6e3075a0b"
   },
   "outputs": [],
   "source": [
    "age_group_by_sex['AgeGroup'] = age_group_by_sex['AgeGroup'].apply(lambda x: age_groups[x])"
   ]
  },
  {
   "cell_type": "code",
   "execution_count": 37,
   "metadata": {
    "_uuid": "b406e16b7e8993250b35d9a029c4e6db15e5ca46"
   },
   "outputs": [
    {
     "data": {
      "text/html": [
       "<div>\n",
       "<style scoped>\n",
       "    .dataframe tbody tr th:only-of-type {\n",
       "        vertical-align: middle;\n",
       "    }\n",
       "\n",
       "    .dataframe tbody tr th {\n",
       "        vertical-align: top;\n",
       "    }\n",
       "\n",
       "    .dataframe thead th {\n",
       "        text-align: right;\n",
       "    }\n",
       "</style>\n",
       "<table border=\"1\" class=\"dataframe\">\n",
       "  <thead>\n",
       "    <tr style=\"text-align: right;\">\n",
       "      <th></th>\n",
       "      <th>AgeGroup</th>\n",
       "      <th>Sex</th>\n",
       "      <th>Survived</th>\n",
       "      <th>Count</th>\n",
       "    </tr>\n",
       "  </thead>\n",
       "  <tbody>\n",
       "    <tr>\n",
       "      <th>0</th>\n",
       "      <td>(0, 15)</td>\n",
       "      <td>female</td>\n",
       "      <td>0</td>\n",
       "      <td>15</td>\n",
       "    </tr>\n",
       "    <tr>\n",
       "      <th>1</th>\n",
       "      <td>(0, 15)</td>\n",
       "      <td>female</td>\n",
       "      <td>1</td>\n",
       "      <td>24</td>\n",
       "    </tr>\n",
       "    <tr>\n",
       "      <th>2</th>\n",
       "      <td>(0, 15)</td>\n",
       "      <td>male</td>\n",
       "      <td>0</td>\n",
       "      <td>18</td>\n",
       "    </tr>\n",
       "    <tr>\n",
       "      <th>3</th>\n",
       "      <td>(0, 15)</td>\n",
       "      <td>male</td>\n",
       "      <td>1</td>\n",
       "      <td>21</td>\n",
       "    </tr>\n",
       "    <tr>\n",
       "      <th>4</th>\n",
       "      <td>(15, 25)</td>\n",
       "      <td>female</td>\n",
       "      <td>0</td>\n",
       "      <td>17</td>\n",
       "    </tr>\n",
       "    <tr>\n",
       "      <th>5</th>\n",
       "      <td>(15, 25)</td>\n",
       "      <td>female</td>\n",
       "      <td>1</td>\n",
       "      <td>61</td>\n",
       "    </tr>\n",
       "    <tr>\n",
       "      <th>6</th>\n",
       "      <td>(15, 25)</td>\n",
       "      <td>male</td>\n",
       "      <td>0</td>\n",
       "      <td>110</td>\n",
       "    </tr>\n",
       "    <tr>\n",
       "      <th>7</th>\n",
       "      <td>(15, 25)</td>\n",
       "      <td>male</td>\n",
       "      <td>1</td>\n",
       "      <td>12</td>\n",
       "    </tr>\n",
       "    <tr>\n",
       "      <th>8</th>\n",
       "      <td>(25, 40)</td>\n",
       "      <td>female</td>\n",
       "      <td>0</td>\n",
       "      <td>37</td>\n",
       "    </tr>\n",
       "    <tr>\n",
       "      <th>9</th>\n",
       "      <td>(25, 40)</td>\n",
       "      <td>female</td>\n",
       "      <td>1</td>\n",
       "      <td>106</td>\n",
       "    </tr>\n",
       "    <tr>\n",
       "      <th>10</th>\n",
       "      <td>(25, 40)</td>\n",
       "      <td>male</td>\n",
       "      <td>0</td>\n",
       "      <td>250</td>\n",
       "    </tr>\n",
       "    <tr>\n",
       "      <th>11</th>\n",
       "      <td>(25, 40)</td>\n",
       "      <td>male</td>\n",
       "      <td>1</td>\n",
       "      <td>57</td>\n",
       "    </tr>\n",
       "    <tr>\n",
       "      <th>12</th>\n",
       "      <td>(40, 65)</td>\n",
       "      <td>female</td>\n",
       "      <td>0</td>\n",
       "      <td>12</td>\n",
       "    </tr>\n",
       "    <tr>\n",
       "      <th>13</th>\n",
       "      <td>(40, 65)</td>\n",
       "      <td>female</td>\n",
       "      <td>1</td>\n",
       "      <td>42</td>\n",
       "    </tr>\n",
       "    <tr>\n",
       "      <th>14</th>\n",
       "      <td>(40, 65)</td>\n",
       "      <td>male</td>\n",
       "      <td>0</td>\n",
       "      <td>80</td>\n",
       "    </tr>\n",
       "    <tr>\n",
       "      <th>15</th>\n",
       "      <td>(40, 65)</td>\n",
       "      <td>male</td>\n",
       "      <td>1</td>\n",
       "      <td>18</td>\n",
       "    </tr>\n",
       "    <tr>\n",
       "      <th>16</th>\n",
       "      <td>(65, 81)</td>\n",
       "      <td>male</td>\n",
       "      <td>0</td>\n",
       "      <td>10</td>\n",
       "    </tr>\n",
       "    <tr>\n",
       "      <th>17</th>\n",
       "      <td>(65, 81)</td>\n",
       "      <td>male</td>\n",
       "      <td>1</td>\n",
       "      <td>1</td>\n",
       "    </tr>\n",
       "  </tbody>\n",
       "</table>\n",
       "</div>"
      ],
      "text/plain": [
       "    AgeGroup     Sex  Survived  Count\n",
       "0    (0, 15)  female         0     15\n",
       "1    (0, 15)  female         1     24\n",
       "2    (0, 15)    male         0     18\n",
       "3    (0, 15)    male         1     21\n",
       "4   (15, 25)  female         0     17\n",
       "5   (15, 25)  female         1     61\n",
       "6   (15, 25)    male         0    110\n",
       "7   (15, 25)    male         1     12\n",
       "8   (25, 40)  female         0     37\n",
       "9   (25, 40)  female         1    106\n",
       "10  (25, 40)    male         0    250\n",
       "11  (25, 40)    male         1     57\n",
       "12  (40, 65)  female         0     12\n",
       "13  (40, 65)  female         1     42\n",
       "14  (40, 65)    male         0     80\n",
       "15  (40, 65)    male         1     18\n",
       "16  (65, 81)    male         0     10\n",
       "17  (65, 81)    male         1      1"
      ]
     },
     "execution_count": 37,
     "metadata": {},
     "output_type": "execute_result"
    }
   ],
   "source": [
    "age_group_by_sex"
   ]
  },
  {
   "cell_type": "code",
   "execution_count": 38,
   "metadata": {
    "_uuid": "6941eccaf4f7b177a800e75b25fb65c5b5a0263c"
   },
   "outputs": [],
   "source": [
    "age_group_by_sex['Survived'] = age_group_by_sex['Survived'].apply(lambda x: survival[x])"
   ]
  },
  {
   "cell_type": "code",
   "execution_count": 39,
   "metadata": {
    "_uuid": "5ef425f3f025d4290bb17c60c3949f930a0669ab"
   },
   "outputs": [],
   "source": [
    "# NOTE: Check how to plot with combining two columns without the need to create new one\n",
    "\n",
    "age_group_by_sex['AgeGroupSex'] = age_group_by_sex['AgeGroup'].apply(lambda x: str(x)) + \" - \" + age_group_by_sex['Sex']"
   ]
  },
  {
   "cell_type": "code",
   "execution_count": 40,
   "metadata": {
    "_uuid": "c431e0da745c4fb8b731e0d94df7f08e726097f5"
   },
   "outputs": [
    {
     "data": {
      "text/html": [
       "<div>\n",
       "<style scoped>\n",
       "    .dataframe tbody tr th:only-of-type {\n",
       "        vertical-align: middle;\n",
       "    }\n",
       "\n",
       "    .dataframe tbody tr th {\n",
       "        vertical-align: top;\n",
       "    }\n",
       "\n",
       "    .dataframe thead th {\n",
       "        text-align: right;\n",
       "    }\n",
       "</style>\n",
       "<table border=\"1\" class=\"dataframe\">\n",
       "  <thead>\n",
       "    <tr style=\"text-align: right;\">\n",
       "      <th></th>\n",
       "      <th>AgeGroup</th>\n",
       "      <th>Sex</th>\n",
       "      <th>Survived</th>\n",
       "      <th>Count</th>\n",
       "      <th>AgeGroupSex</th>\n",
       "    </tr>\n",
       "  </thead>\n",
       "  <tbody>\n",
       "    <tr>\n",
       "      <th>0</th>\n",
       "      <td>(0, 15)</td>\n",
       "      <td>female</td>\n",
       "      <td>Not Survived</td>\n",
       "      <td>15</td>\n",
       "      <td>(0, 15) - female</td>\n",
       "    </tr>\n",
       "    <tr>\n",
       "      <th>1</th>\n",
       "      <td>(0, 15)</td>\n",
       "      <td>female</td>\n",
       "      <td>Survived</td>\n",
       "      <td>24</td>\n",
       "      <td>(0, 15) - female</td>\n",
       "    </tr>\n",
       "    <tr>\n",
       "      <th>2</th>\n",
       "      <td>(0, 15)</td>\n",
       "      <td>male</td>\n",
       "      <td>Not Survived</td>\n",
       "      <td>18</td>\n",
       "      <td>(0, 15) - male</td>\n",
       "    </tr>\n",
       "    <tr>\n",
       "      <th>3</th>\n",
       "      <td>(0, 15)</td>\n",
       "      <td>male</td>\n",
       "      <td>Survived</td>\n",
       "      <td>21</td>\n",
       "      <td>(0, 15) - male</td>\n",
       "    </tr>\n",
       "    <tr>\n",
       "      <th>4</th>\n",
       "      <td>(15, 25)</td>\n",
       "      <td>female</td>\n",
       "      <td>Not Survived</td>\n",
       "      <td>17</td>\n",
       "      <td>(15, 25) - female</td>\n",
       "    </tr>\n",
       "    <tr>\n",
       "      <th>5</th>\n",
       "      <td>(15, 25)</td>\n",
       "      <td>female</td>\n",
       "      <td>Survived</td>\n",
       "      <td>61</td>\n",
       "      <td>(15, 25) - female</td>\n",
       "    </tr>\n",
       "    <tr>\n",
       "      <th>6</th>\n",
       "      <td>(15, 25)</td>\n",
       "      <td>male</td>\n",
       "      <td>Not Survived</td>\n",
       "      <td>110</td>\n",
       "      <td>(15, 25) - male</td>\n",
       "    </tr>\n",
       "    <tr>\n",
       "      <th>7</th>\n",
       "      <td>(15, 25)</td>\n",
       "      <td>male</td>\n",
       "      <td>Survived</td>\n",
       "      <td>12</td>\n",
       "      <td>(15, 25) - male</td>\n",
       "    </tr>\n",
       "    <tr>\n",
       "      <th>8</th>\n",
       "      <td>(25, 40)</td>\n",
       "      <td>female</td>\n",
       "      <td>Not Survived</td>\n",
       "      <td>37</td>\n",
       "      <td>(25, 40) - female</td>\n",
       "    </tr>\n",
       "    <tr>\n",
       "      <th>9</th>\n",
       "      <td>(25, 40)</td>\n",
       "      <td>female</td>\n",
       "      <td>Survived</td>\n",
       "      <td>106</td>\n",
       "      <td>(25, 40) - female</td>\n",
       "    </tr>\n",
       "    <tr>\n",
       "      <th>10</th>\n",
       "      <td>(25, 40)</td>\n",
       "      <td>male</td>\n",
       "      <td>Not Survived</td>\n",
       "      <td>250</td>\n",
       "      <td>(25, 40) - male</td>\n",
       "    </tr>\n",
       "    <tr>\n",
       "      <th>11</th>\n",
       "      <td>(25, 40)</td>\n",
       "      <td>male</td>\n",
       "      <td>Survived</td>\n",
       "      <td>57</td>\n",
       "      <td>(25, 40) - male</td>\n",
       "    </tr>\n",
       "    <tr>\n",
       "      <th>12</th>\n",
       "      <td>(40, 65)</td>\n",
       "      <td>female</td>\n",
       "      <td>Not Survived</td>\n",
       "      <td>12</td>\n",
       "      <td>(40, 65) - female</td>\n",
       "    </tr>\n",
       "    <tr>\n",
       "      <th>13</th>\n",
       "      <td>(40, 65)</td>\n",
       "      <td>female</td>\n",
       "      <td>Survived</td>\n",
       "      <td>42</td>\n",
       "      <td>(40, 65) - female</td>\n",
       "    </tr>\n",
       "    <tr>\n",
       "      <th>14</th>\n",
       "      <td>(40, 65)</td>\n",
       "      <td>male</td>\n",
       "      <td>Not Survived</td>\n",
       "      <td>80</td>\n",
       "      <td>(40, 65) - male</td>\n",
       "    </tr>\n",
       "    <tr>\n",
       "      <th>15</th>\n",
       "      <td>(40, 65)</td>\n",
       "      <td>male</td>\n",
       "      <td>Survived</td>\n",
       "      <td>18</td>\n",
       "      <td>(40, 65) - male</td>\n",
       "    </tr>\n",
       "    <tr>\n",
       "      <th>16</th>\n",
       "      <td>(65, 81)</td>\n",
       "      <td>male</td>\n",
       "      <td>Not Survived</td>\n",
       "      <td>10</td>\n",
       "      <td>(65, 81) - male</td>\n",
       "    </tr>\n",
       "    <tr>\n",
       "      <th>17</th>\n",
       "      <td>(65, 81)</td>\n",
       "      <td>male</td>\n",
       "      <td>Survived</td>\n",
       "      <td>1</td>\n",
       "      <td>(65, 81) - male</td>\n",
       "    </tr>\n",
       "  </tbody>\n",
       "</table>\n",
       "</div>"
      ],
      "text/plain": [
       "    AgeGroup     Sex      Survived  Count        AgeGroupSex\n",
       "0    (0, 15)  female  Not Survived     15   (0, 15) - female\n",
       "1    (0, 15)  female      Survived     24   (0, 15) - female\n",
       "2    (0, 15)    male  Not Survived     18     (0, 15) - male\n",
       "3    (0, 15)    male      Survived     21     (0, 15) - male\n",
       "4   (15, 25)  female  Not Survived     17  (15, 25) - female\n",
       "5   (15, 25)  female      Survived     61  (15, 25) - female\n",
       "6   (15, 25)    male  Not Survived    110    (15, 25) - male\n",
       "7   (15, 25)    male      Survived     12    (15, 25) - male\n",
       "8   (25, 40)  female  Not Survived     37  (25, 40) - female\n",
       "9   (25, 40)  female      Survived    106  (25, 40) - female\n",
       "10  (25, 40)    male  Not Survived    250    (25, 40) - male\n",
       "11  (25, 40)    male      Survived     57    (25, 40) - male\n",
       "12  (40, 65)  female  Not Survived     12  (40, 65) - female\n",
       "13  (40, 65)  female      Survived     42  (40, 65) - female\n",
       "14  (40, 65)    male  Not Survived     80    (40, 65) - male\n",
       "15  (40, 65)    male      Survived     18    (40, 65) - male\n",
       "16  (65, 81)    male  Not Survived     10    (65, 81) - male\n",
       "17  (65, 81)    male      Survived      1    (65, 81) - male"
      ]
     },
     "execution_count": 40,
     "metadata": {},
     "output_type": "execute_result"
    }
   ],
   "source": [
    "age_group_by_sex"
   ]
  },
  {
   "cell_type": "code",
   "execution_count": 41,
   "metadata": {
    "_uuid": "4991ec9009f4065d48c217fa10135cb1d63620d5"
   },
   "outputs": [
    {
     "data": {
      "text/plain": [
       "Text(0.5,1,'Survival rate by sex and age group - females')"
      ]
     },
     "execution_count": 41,
     "metadata": {},
     "output_type": "execute_result"
    },
    {
     "data": {
      "image/png": "[encoded data removed]",
      "text/plain": [
       "<Figure size 720x648 with 2 Axes>"
      ]
     },
     "metadata": {},
     "output_type": "display_data"
    }
   ],
   "source": [
    "# plotting\n",
    "\n",
    "a4_dims = (10, 9)\n",
    "fig, ax = plt.subplots(2, figsize=a4_dims)\n",
    "\n",
    "survival_by_age_group_males = sns.barplot(ax=ax[0],\n",
    "                                            x='AgeGroupSex',\n",
    "                                            y='Count',\n",
    "                                            hue='Survived',\n",
    "                                            data=age_group_by_sex[age_group_by_sex['Sex'] == 'male'])\n",
    "\n",
    "survival_by_age_group_males.set_title('Survival rate by sex and age group - males')\n",
    "\n",
    "survival_by_age_group_females = sns.barplot(ax=ax[1],\n",
    "                                            x='AgeGroupSex',\n",
    "                                            y='Count',\n",
    "                                            hue='Survived',\n",
    "                                            data=age_group_by_sex[age_group_by_sex['Sex'] == 'female'])\n",
    "\n",
    "survival_by_age_group_females.set_title('Survival rate by sex and age group - females')"
   ]
  },
  {
   "cell_type": "markdown",
   "metadata": {
    "_uuid": "b7f4bb81dfa1e64f03a3b2ebee7dea0b1ba1fb7c"
   },
   "source": [
    "We can conclude here that age group also plays a role on providing a chance of survival to certain groups of people. That means that age group as category can tell us more about the significance of surviving.\n",
    "\n",
    "We can conclude that mostly the children and females were saved, further proving the significant role a gender has on survival rate."
   ]
  },
  {
   "cell_type": "markdown",
   "metadata": {
    "_uuid": "f51adfdc141518e547f9619ea2a3788f9b5a5374"
   },
   "source": [
    "### Sibling - spouses analysis"
   ]
  },
  {
   "cell_type": "markdown",
   "metadata": {
    "_uuid": "1195f4ec8b33225ca091c48536b813f418b2cf57"
   },
   "source": [
    "Further analysis and feature engineering required for sibling-spouses analytics. The goal is to test if there is any correlation to minimizing the chance of surviving if a passenger has a sibling or spouse.\n",
    "\n",
    "We will describe the series to see what we're dealing with."
   ]
  },
  {
   "cell_type": "code",
   "execution_count": 42,
   "metadata": {
    "_uuid": "f01cd6d2eeec397aab10c5fabb2edb6e446c4f3e"
   },
   "outputs": [
    {
     "data": {
      "text/html": [
       "<div>\n",
       "<style scoped>\n",
       "    .dataframe tbody tr th:only-of-type {\n",
       "        vertical-align: middle;\n",
       "    }\n",
       "\n",
       "    .dataframe tbody tr th {\n",
       "        vertical-align: top;\n",
       "    }\n",
       "\n",
       "    .dataframe thead th {\n",
       "        text-align: right;\n",
       "    }\n",
       "</style>\n",
       "<table border=\"1\" class=\"dataframe\">\n",
       "  <thead>\n",
       "    <tr style=\"text-align: right;\">\n",
       "      <th></th>\n",
       "      <th>PassengerId</th>\n",
       "      <th>Survived</th>\n",
       "      <th>Pclass</th>\n",
       "      <th>Name</th>\n",
       "      <th>Sex</th>\n",
       "      <th>Age</th>\n",
       "      <th>SibSp</th>\n",
       "      <th>Parch</th>\n",
       "      <th>Ticket</th>\n",
       "      <th>Fare</th>\n",
       "      <th>Cabin</th>\n",
       "      <th>Embarked</th>\n",
       "    </tr>\n",
       "  </thead>\n",
       "  <tbody>\n",
       "    <tr>\n",
       "      <th>0</th>\n",
       "      <td>1</td>\n",
       "      <td>0</td>\n",
       "      <td>3</td>\n",
       "      <td>Braund, Mr. Owen Harris</td>\n",
       "      <td>male</td>\n",
       "      <td>22.0</td>\n",
       "      <td>1</td>\n",
       "      <td>0</td>\n",
       "      <td>A/5 21171</td>\n",
       "      <td>7.2500</td>\n",
       "      <td>NaN</td>\n",
       "      <td>S</td>\n",
       "    </tr>\n",
       "    <tr>\n",
       "      <th>1</th>\n",
       "      <td>2</td>\n",
       "      <td>1</td>\n",
       "      <td>1</td>\n",
       "      <td>Cumings, Mrs. John Bradley (Florence Briggs Th...</td>\n",
       "      <td>female</td>\n",
       "      <td>38.0</td>\n",
       "      <td>1</td>\n",
       "      <td>0</td>\n",
       "      <td>PC 17599</td>\n",
       "      <td>71.2833</td>\n",
       "      <td>C85</td>\n",
       "      <td>C</td>\n",
       "    </tr>\n",
       "    <tr>\n",
       "      <th>2</th>\n",
       "      <td>3</td>\n",
       "      <td>1</td>\n",
       "      <td>3</td>\n",
       "      <td>Heikkinen, Miss. Laina</td>\n",
       "      <td>female</td>\n",
       "      <td>26.0</td>\n",
       "      <td>0</td>\n",
       "      <td>0</td>\n",
       "      <td>STON/O2. 3101282</td>\n",
       "      <td>7.9250</td>\n",
       "      <td>NaN</td>\n",
       "      <td>S</td>\n",
       "    </tr>\n",
       "    <tr>\n",
       "      <th>3</th>\n",
       "      <td>4</td>\n",
       "      <td>1</td>\n",
       "      <td>1</td>\n",
       "      <td>Futrelle, Mrs. Jacques Heath (Lily May Peel)</td>\n",
       "      <td>female</td>\n",
       "      <td>35.0</td>\n",
       "      <td>1</td>\n",
       "      <td>0</td>\n",
       "      <td>113803</td>\n",
       "      <td>53.1000</td>\n",
       "      <td>C123</td>\n",
       "      <td>S</td>\n",
       "    </tr>\n",
       "    <tr>\n",
       "      <th>4</th>\n",
       "      <td>5</td>\n",
       "      <td>0</td>\n",
       "      <td>3</td>\n",
       "      <td>Allen, Mr. William Henry</td>\n",
       "      <td>male</td>\n",
       "      <td>35.0</td>\n",
       "      <td>0</td>\n",
       "      <td>0</td>\n",
       "      <td>373450</td>\n",
       "      <td>8.0500</td>\n",
       "      <td>NaN</td>\n",
       "      <td>S</td>\n",
       "    </tr>\n",
       "  </tbody>\n",
       "</table>\n",
       "</div>"
      ],
      "text/plain": [
       "   PassengerId  Survived  Pclass    ...        Fare Cabin  Embarked\n",
       "0            1         0       3    ...      7.2500   NaN         S\n",
       "1            2         1       1    ...     71.2833   C85         C\n",
       "2            3         1       3    ...      7.9250   NaN         S\n",
       "3            4         1       1    ...     53.1000  C123         S\n",
       "4            5         0       3    ...      8.0500   NaN         S\n",
       "\n",
       "[5 rows x 12 columns]"
      ]
     },
     "execution_count": 42,
     "metadata": {},
     "output_type": "execute_result"
    }
   ],
   "source": [
    "df.head()"
   ]
  },
  {
   "cell_type": "code",
   "execution_count": 43,
   "metadata": {
    "_uuid": "817de1450ddc58aba3181134c0bc2fd9ceff9644"
   },
   "outputs": [
    {
     "data": {
      "text/plain": [
       "count    891.000000\n",
       "mean       0.523008\n",
       "std        1.102743\n",
       "min        0.000000\n",
       "25%        0.000000\n",
       "50%        0.000000\n",
       "75%        1.000000\n",
       "max        8.000000\n",
       "Name: SibSp, dtype: float64"
      ]
     },
     "execution_count": 43,
     "metadata": {},
     "output_type": "execute_result"
    }
   ],
   "source": [
    "df['SibSp'].describe()"
   ]
  },
  {
   "cell_type": "markdown",
   "metadata": {
    "_uuid": "6ce8267635de2edd85f6d945add85c9407c0fead"
   },
   "source": [
    "We see that, if someone has a sibling or spouse, it will have tipically 1 or 2, let's see if we can count how many of them we have."
   ]
  },
  {
   "cell_type": "code",
   "execution_count": 44,
   "metadata": {
    "_uuid": "af2baaf20e61acda22790faea2c0cd14fc0ac30a"
   },
   "outputs": [
    {
     "data": {
      "text/plain": [
       "0    608\n",
       "1    209\n",
       "2     28\n",
       "4     18\n",
       "3     16\n",
       "8      7\n",
       "5      5\n",
       "Name: SibSp, dtype: int64"
      ]
     },
     "execution_count": 44,
     "metadata": {},
     "output_type": "execute_result"
    }
   ],
   "source": [
    "df['SibSp'].value_counts()"
   ]
  },
  {
   "cell_type": "markdown",
   "metadata": {
    "_uuid": "1a4f1745bb57e6c80e54b79acbe6bcf8fc78a588"
   },
   "source": [
    "As suspected, tipically it will have 1 or 2, with small portion of them having more.\n",
    "\n",
    "We can use the feature engineering again to convert the SibSp into a boolean, since a small portion of them would not make a significant change in the model."
   ]
  },
  {
   "cell_type": "code",
   "execution_count": 45,
   "metadata": {
    "_uuid": "6ff9bd0d9223e5e1ca89fa9fc36fb0a72ffe8604"
   },
   "outputs": [],
   "source": [
    "df_siblings = df[['PassengerId', 'Survived', 'Sex', 'SibSp', 'Age']].copy()"
   ]
  },
  {
   "cell_type": "code",
   "execution_count": 46,
   "metadata": {
    "_uuid": "f27b0c462d304a1012501ef1d4d155119510844d"
   },
   "outputs": [
    {
     "data": {
      "text/html": [
       "<div>\n",
       "<style scoped>\n",
       "    .dataframe tbody tr th:only-of-type {\n",
       "        vertical-align: middle;\n",
       "    }\n",
       "\n",
       "    .dataframe tbody tr th {\n",
       "        vertical-align: top;\n",
       "    }\n",
       "\n",
       "    .dataframe thead th {\n",
       "        text-align: right;\n",
       "    }\n",
       "</style>\n",
       "<table border=\"1\" class=\"dataframe\">\n",
       "  <thead>\n",
       "    <tr style=\"text-align: right;\">\n",
       "      <th></th>\n",
       "      <th>PassengerId</th>\n",
       "      <th>Survived</th>\n",
       "      <th>Sex</th>\n",
       "      <th>SibSp</th>\n",
       "      <th>Age</th>\n",
       "    </tr>\n",
       "  </thead>\n",
       "  <tbody>\n",
       "    <tr>\n",
       "      <th>0</th>\n",
       "      <td>1</td>\n",
       "      <td>0</td>\n",
       "      <td>male</td>\n",
       "      <td>1</td>\n",
       "      <td>22.0</td>\n",
       "    </tr>\n",
       "    <tr>\n",
       "      <th>1</th>\n",
       "      <td>2</td>\n",
       "      <td>1</td>\n",
       "      <td>female</td>\n",
       "      <td>1</td>\n",
       "      <td>38.0</td>\n",
       "    </tr>\n",
       "    <tr>\n",
       "      <th>2</th>\n",
       "      <td>3</td>\n",
       "      <td>1</td>\n",
       "      <td>female</td>\n",
       "      <td>0</td>\n",
       "      <td>26.0</td>\n",
       "    </tr>\n",
       "    <tr>\n",
       "      <th>3</th>\n",
       "      <td>4</td>\n",
       "      <td>1</td>\n",
       "      <td>female</td>\n",
       "      <td>1</td>\n",
       "      <td>35.0</td>\n",
       "    </tr>\n",
       "    <tr>\n",
       "      <th>4</th>\n",
       "      <td>5</td>\n",
       "      <td>0</td>\n",
       "      <td>male</td>\n",
       "      <td>0</td>\n",
       "      <td>35.0</td>\n",
       "    </tr>\n",
       "    <tr>\n",
       "      <th>5</th>\n",
       "      <td>6</td>\n",
       "      <td>0</td>\n",
       "      <td>male</td>\n",
       "      <td>0</td>\n",
       "      <td>NaN</td>\n",
       "    </tr>\n",
       "  </tbody>\n",
       "</table>\n",
       "</div>"
      ],
      "text/plain": [
       "   PassengerId  Survived     Sex  SibSp   Age\n",
       "0            1         0    male      1  22.0\n",
       "1            2         1  female      1  38.0\n",
       "2            3         1  female      0  26.0\n",
       "3            4         1  female      1  35.0\n",
       "4            5         0    male      0  35.0\n",
       "5            6         0    male      0   NaN"
      ]
     },
     "execution_count": 46,
     "metadata": {},
     "output_type": "execute_result"
    }
   ],
   "source": [
    "df_siblings[:6]"
   ]
  },
  {
   "cell_type": "code",
   "execution_count": 47,
   "metadata": {
    "_uuid": "b5e9c5db7030aaccc925e62708a54bb2f00909a9"
   },
   "outputs": [
    {
     "data": {
      "text/plain": [
       "True    891\n",
       "Name: SibSp, dtype: int64"
      ]
     },
     "execution_count": 47,
     "metadata": {},
     "output_type": "execute_result"
    }
   ],
   "source": [
    "df_siblings['SibSp'].notna().value_counts()"
   ]
  },
  {
   "cell_type": "markdown",
   "metadata": {
    "_uuid": "0162fc8406578e581e4d554b42cce859ba745f17"
   },
   "source": [
    "We will also use the feature engineering for the age group we have done before, so that we can provide further analysis on the relation siblings/spouse with the certain age group and certain gender.\n",
    "\n",
    "Also, the column SibSp has no NaN values, so we don't need to do any missing data procedures."
   ]
  },
  {
   "cell_type": "code",
   "execution_count": 48,
   "metadata": {
    "_uuid": "c72bb68a66692f84e21592050ea8436d935bec05"
   },
   "outputs": [],
   "source": [
    "df_siblings['Age'] = df_siblings['Age'].fillna(modf(df['Age'][df['Age'].notna()].mean())[1])\n",
    "df_siblings['AgeGroup'] = df_siblings['Age'].apply(which_age_group).astype('int64').apply(lambda x: age_groups[x])\n",
    "df_siblings['HasSibSp'] = df_siblings['SibSp'].apply(lambda x: x > 0)"
   ]
  },
  {
   "cell_type": "code",
   "execution_count": 49,
   "metadata": {
    "_uuid": "e951655e28ecb831af3dba35ac258821de521559"
   },
   "outputs": [
    {
     "data": {
      "text/html": [
       "<div>\n",
       "<style scoped>\n",
       "    .dataframe tbody tr th:only-of-type {\n",
       "        vertical-align: middle;\n",
       "    }\n",
       "\n",
       "    .dataframe tbody tr th {\n",
       "        vertical-align: top;\n",
       "    }\n",
       "\n",
       "    .dataframe thead th {\n",
       "        text-align: right;\n",
       "    }\n",
       "</style>\n",
       "<table border=\"1\" class=\"dataframe\">\n",
       "  <thead>\n",
       "    <tr style=\"text-align: right;\">\n",
       "      <th></th>\n",
       "      <th>PassengerId</th>\n",
       "      <th>Survived</th>\n",
       "      <th>Sex</th>\n",
       "      <th>SibSp</th>\n",
       "      <th>Age</th>\n",
       "      <th>AgeGroup</th>\n",
       "      <th>HasSibSp</th>\n",
       "    </tr>\n",
       "  </thead>\n",
       "  <tbody>\n",
       "    <tr>\n",
       "      <th>0</th>\n",
       "      <td>1</td>\n",
       "      <td>0</td>\n",
       "      <td>male</td>\n",
       "      <td>1</td>\n",
       "      <td>22.0</td>\n",
       "      <td>(15, 25)</td>\n",
       "      <td>True</td>\n",
       "    </tr>\n",
       "    <tr>\n",
       "      <th>1</th>\n",
       "      <td>2</td>\n",
       "      <td>1</td>\n",
       "      <td>female</td>\n",
       "      <td>1</td>\n",
       "      <td>38.0</td>\n",
       "      <td>(25, 40)</td>\n",
       "      <td>True</td>\n",
       "    </tr>\n",
       "    <tr>\n",
       "      <th>2</th>\n",
       "      <td>3</td>\n",
       "      <td>1</td>\n",
       "      <td>female</td>\n",
       "      <td>0</td>\n",
       "      <td>26.0</td>\n",
       "      <td>(25, 40)</td>\n",
       "      <td>False</td>\n",
       "    </tr>\n",
       "    <tr>\n",
       "      <th>3</th>\n",
       "      <td>4</td>\n",
       "      <td>1</td>\n",
       "      <td>female</td>\n",
       "      <td>1</td>\n",
       "      <td>35.0</td>\n",
       "      <td>(25, 40)</td>\n",
       "      <td>True</td>\n",
       "    </tr>\n",
       "    <tr>\n",
       "      <th>4</th>\n",
       "      <td>5</td>\n",
       "      <td>0</td>\n",
       "      <td>male</td>\n",
       "      <td>0</td>\n",
       "      <td>35.0</td>\n",
       "      <td>(25, 40)</td>\n",
       "      <td>False</td>\n",
       "    </tr>\n",
       "    <tr>\n",
       "      <th>5</th>\n",
       "      <td>6</td>\n",
       "      <td>0</td>\n",
       "      <td>male</td>\n",
       "      <td>0</td>\n",
       "      <td>29.0</td>\n",
       "      <td>(25, 40)</td>\n",
       "      <td>False</td>\n",
       "    </tr>\n",
       "  </tbody>\n",
       "</table>\n",
       "</div>"
      ],
      "text/plain": [
       "   PassengerId  Survived     Sex  SibSp   Age  AgeGroup  HasSibSp\n",
       "0            1         0    male      1  22.0  (15, 25)      True\n",
       "1            2         1  female      1  38.0  (25, 40)      True\n",
       "2            3         1  female      0  26.0  (25, 40)     False\n",
       "3            4         1  female      1  35.0  (25, 40)      True\n",
       "4            5         0    male      0  35.0  (25, 40)     False\n",
       "5            6         0    male      0  29.0  (25, 40)     False"
      ]
     },
     "execution_count": 49,
     "metadata": {},
     "output_type": "execute_result"
    }
   ],
   "source": [
    "df_siblings[:6]"
   ]
  },
  {
   "cell_type": "code",
   "execution_count": 50,
   "metadata": {
    "_uuid": "da532b7bf394900b6b54751898dc1726c5ff7f04"
   },
   "outputs": [
    {
     "data": {
      "text/plain": [
       "False    608\n",
       "True     283\n",
       "Name: HasSibSp, dtype: int64"
      ]
     },
     "execution_count": 50,
     "metadata": {},
     "output_type": "execute_result"
    }
   ],
   "source": [
    "df_siblings['HasSibSp'].value_counts()"
   ]
  },
  {
   "cell_type": "markdown",
   "metadata": {
    "_uuid": "c1a3b2b9d8ae738ab310aec8df0375137ae32490"
   },
   "source": [
    "Now that we have the columns HasSibSp, we can see now how many casualties were there regarding the siblings."
   ]
  },
  {
   "cell_type": "code",
   "execution_count": 51,
   "metadata": {
    "_uuid": "34a41f97b1571794e8bad4779533ab79da8e236a"
   },
   "outputs": [],
   "source": [
    "# using the whole population\n",
    "hassib_survival_rate = df_siblings.groupby(['HasSibSp', 'Survived']).size().reset_index().rename(columns={0: 'Count'})"
   ]
  },
  {
   "cell_type": "code",
   "execution_count": 52,
   "metadata": {
    "_uuid": "c97e53c40ff96b94b9da3c850330e9b60d9d8d50"
   },
   "outputs": [
    {
     "data": {
      "text/html": [
       "<div>\n",
       "<style scoped>\n",
       "    .dataframe tbody tr th:only-of-type {\n",
       "        vertical-align: middle;\n",
       "    }\n",
       "\n",
       "    .dataframe tbody tr th {\n",
       "        vertical-align: top;\n",
       "    }\n",
       "\n",
       "    .dataframe thead th {\n",
       "        text-align: right;\n",
       "    }\n",
       "</style>\n",
       "<table border=\"1\" class=\"dataframe\">\n",
       "  <thead>\n",
       "    <tr style=\"text-align: right;\">\n",
       "      <th></th>\n",
       "      <th>HasSibSp</th>\n",
       "      <th>Survived</th>\n",
       "      <th>Count</th>\n",
       "    </tr>\n",
       "  </thead>\n",
       "  <tbody>\n",
       "    <tr>\n",
       "      <th>0</th>\n",
       "      <td>False</td>\n",
       "      <td>0</td>\n",
       "      <td>398</td>\n",
       "    </tr>\n",
       "    <tr>\n",
       "      <th>1</th>\n",
       "      <td>False</td>\n",
       "      <td>1</td>\n",
       "      <td>210</td>\n",
       "    </tr>\n",
       "    <tr>\n",
       "      <th>2</th>\n",
       "      <td>True</td>\n",
       "      <td>0</td>\n",
       "      <td>151</td>\n",
       "    </tr>\n",
       "    <tr>\n",
       "      <th>3</th>\n",
       "      <td>True</td>\n",
       "      <td>1</td>\n",
       "      <td>132</td>\n",
       "    </tr>\n",
       "  </tbody>\n",
       "</table>\n",
       "</div>"
      ],
      "text/plain": [
       "   HasSibSp  Survived  Count\n",
       "0     False         0    398\n",
       "1     False         1    210\n",
       "2      True         0    151\n",
       "3      True         1    132"
      ]
     },
     "execution_count": 52,
     "metadata": {},
     "output_type": "execute_result"
    }
   ],
   "source": [
    "hassib_survival_rate"
   ]
  },
  {
   "cell_type": "code",
   "execution_count": 53,
   "metadata": {
    "_uuid": "af5a2cd761ed94d34b296012ddeb68da04056434"
   },
   "outputs": [],
   "source": [
    "hassib_survival_rate['Survived'] = hassib_survival_rate['Survived'].apply(lambda x: survival[x])"
   ]
  },
  {
   "cell_type": "code",
   "execution_count": 54,
   "metadata": {
    "_uuid": "df8685291273acbb77fe10264433950cfd6a5e40"
   },
   "outputs": [
    {
     "data": {
      "text/plain": [
       "Text(0.5,1,'Survival rate by having siblings or spouse')"
      ]
     },
     "execution_count": 54,
     "metadata": {},
     "output_type": "execute_result"
    },
    {
     "data": {
      "image/png": "[encoded data removed]",
      "text/plain": [
       "<Figure size 432x288 with 1 Axes>"
      ]
     },
     "metadata": {},
     "output_type": "display_data"
    }
   ],
   "source": [
    "sns.barplot(x='HasSibSp', y='Count', hue='Survived', data=hassib_survival_rate).set_title('Survival rate by having siblings or spouse')"
   ]
  },
  {
   "cell_type": "markdown",
   "metadata": {
    "_uuid": "72d9de0388c2a47f95c44efa848d6b9493f06bc1"
   },
   "source": [
    "We can see that there are no drastic changes in comparison. We need to prove that having a sibling will not change the outcome of survival. We will check for sibling/spouse for male and female from the sample of population who had siblings or spouse."
   ]
  },
  {
   "cell_type": "code",
   "execution_count": 55,
   "metadata": {
    "_uuid": "a846fb4afe2f4d528cf502f55e3e10614fd36b02"
   },
   "outputs": [],
   "source": [
    "passengers_with_siblings = df_siblings[df_siblings['HasSibSp']]\n",
    "passengers_with_no_siblings = df_siblings[df_siblings['HasSibSp'] == False]"
   ]
  },
  {
   "cell_type": "code",
   "execution_count": 56,
   "metadata": {
    "_uuid": "29c307d6c0dd69eee927f8defb7ed23f81a16e4d"
   },
   "outputs": [],
   "source": [
    "survival_rate_by_sex_and_sibsp = passengers_with_siblings.groupby(['Sex', 'Survived']).size().reset_index().rename(columns={0: 'Count'})\n",
    "survival_rate_by_sex_and_nosibsp = passengers_with_no_siblings.groupby(['Sex', 'Survived']).size().reset_index().rename(columns={0: 'Count'})"
   ]
  },
  {
   "cell_type": "code",
   "execution_count": 57,
   "metadata": {
    "_uuid": "bfe85a996ce3b5f4635586e83d317c15e7f1765b"
   },
   "outputs": [
    {
     "data": {
      "text/html": [
       "<div>\n",
       "<style scoped>\n",
       "    .dataframe tbody tr th:only-of-type {\n",
       "        vertical-align: middle;\n",
       "    }\n",
       "\n",
       "    .dataframe tbody tr th {\n",
       "        vertical-align: top;\n",
       "    }\n",
       "\n",
       "    .dataframe thead th {\n",
       "        text-align: right;\n",
       "    }\n",
       "</style>\n",
       "<table border=\"1\" class=\"dataframe\">\n",
       "  <thead>\n",
       "    <tr style=\"text-align: right;\">\n",
       "      <th></th>\n",
       "      <th>Sex</th>\n",
       "      <th>Survived</th>\n",
       "      <th>Count</th>\n",
       "    </tr>\n",
       "  </thead>\n",
       "  <tbody>\n",
       "    <tr>\n",
       "      <th>0</th>\n",
       "      <td>female</td>\n",
       "      <td>0</td>\n",
       "      <td>44</td>\n",
       "    </tr>\n",
       "    <tr>\n",
       "      <th>1</th>\n",
       "      <td>female</td>\n",
       "      <td>1</td>\n",
       "      <td>96</td>\n",
       "    </tr>\n",
       "    <tr>\n",
       "      <th>2</th>\n",
       "      <td>male</td>\n",
       "      <td>0</td>\n",
       "      <td>107</td>\n",
       "    </tr>\n",
       "    <tr>\n",
       "      <th>3</th>\n",
       "      <td>male</td>\n",
       "      <td>1</td>\n",
       "      <td>36</td>\n",
       "    </tr>\n",
       "  </tbody>\n",
       "</table>\n",
       "</div>"
      ],
      "text/plain": [
       "      Sex  Survived  Count\n",
       "0  female         0     44\n",
       "1  female         1     96\n",
       "2    male         0    107\n",
       "3    male         1     36"
      ]
     },
     "execution_count": 57,
     "metadata": {},
     "output_type": "execute_result"
    }
   ],
   "source": [
    "survival_rate_by_sex_and_sibsp"
   ]
  },
  {
   "cell_type": "code",
   "execution_count": 58,
   "metadata": {
    "_uuid": "2262e1091259ae3a21c82ae79821974764ca7cfc"
   },
   "outputs": [
    {
     "data": {
      "text/html": [
       "<div>\n",
       "<style scoped>\n",
       "    .dataframe tbody tr th:only-of-type {\n",
       "        vertical-align: middle;\n",
       "    }\n",
       "\n",
       "    .dataframe tbody tr th {\n",
       "        vertical-align: top;\n",
       "    }\n",
       "\n",
       "    .dataframe thead th {\n",
       "        text-align: right;\n",
       "    }\n",
       "</style>\n",
       "<table border=\"1\" class=\"dataframe\">\n",
       "  <thead>\n",
       "    <tr style=\"text-align: right;\">\n",
       "      <th></th>\n",
       "      <th>Sex</th>\n",
       "      <th>Survived</th>\n",
       "      <th>Count</th>\n",
       "    </tr>\n",
       "  </thead>\n",
       "  <tbody>\n",
       "    <tr>\n",
       "      <th>0</th>\n",
       "      <td>female</td>\n",
       "      <td>0</td>\n",
       "      <td>37</td>\n",
       "    </tr>\n",
       "    <tr>\n",
       "      <th>1</th>\n",
       "      <td>female</td>\n",
       "      <td>1</td>\n",
       "      <td>137</td>\n",
       "    </tr>\n",
       "    <tr>\n",
       "      <th>2</th>\n",
       "      <td>male</td>\n",
       "      <td>0</td>\n",
       "      <td>361</td>\n",
       "    </tr>\n",
       "    <tr>\n",
       "      <th>3</th>\n",
       "      <td>male</td>\n",
       "      <td>1</td>\n",
       "      <td>73</td>\n",
       "    </tr>\n",
       "  </tbody>\n",
       "</table>\n",
       "</div>"
      ],
      "text/plain": [
       "      Sex  Survived  Count\n",
       "0  female         0     37\n",
       "1  female         1    137\n",
       "2    male         0    361\n",
       "3    male         1     73"
      ]
     },
     "execution_count": 58,
     "metadata": {},
     "output_type": "execute_result"
    }
   ],
   "source": [
    "survival_rate_by_sex_and_nosibsp"
   ]
  },
  {
   "cell_type": "code",
   "execution_count": 59,
   "metadata": {
    "_uuid": "afc1ed45d5f93711fd489e860060aa36f1fd594f"
   },
   "outputs": [
    {
     "data": {
      "text/html": [
       "<div>\n",
       "<style scoped>\n",
       "    .dataframe tbody tr th:only-of-type {\n",
       "        vertical-align: middle;\n",
       "    }\n",
       "\n",
       "    .dataframe tbody tr th {\n",
       "        vertical-align: top;\n",
       "    }\n",
       "\n",
       "    .dataframe thead th {\n",
       "        text-align: right;\n",
       "    }\n",
       "</style>\n",
       "<table border=\"1\" class=\"dataframe\">\n",
       "  <thead>\n",
       "    <tr style=\"text-align: right;\">\n",
       "      <th></th>\n",
       "      <th>Sex</th>\n",
       "      <th>Survived</th>\n",
       "      <th>Count</th>\n",
       "    </tr>\n",
       "  </thead>\n",
       "  <tbody>\n",
       "    <tr>\n",
       "      <th>0</th>\n",
       "      <td>female</td>\n",
       "      <td>Not Survived</td>\n",
       "      <td>44</td>\n",
       "    </tr>\n",
       "    <tr>\n",
       "      <th>1</th>\n",
       "      <td>female</td>\n",
       "      <td>Survived</td>\n",
       "      <td>96</td>\n",
       "    </tr>\n",
       "    <tr>\n",
       "      <th>2</th>\n",
       "      <td>male</td>\n",
       "      <td>Not Survived</td>\n",
       "      <td>107</td>\n",
       "    </tr>\n",
       "    <tr>\n",
       "      <th>3</th>\n",
       "      <td>male</td>\n",
       "      <td>Survived</td>\n",
       "      <td>36</td>\n",
       "    </tr>\n",
       "  </tbody>\n",
       "</table>\n",
       "</div>"
      ],
      "text/plain": [
       "      Sex      Survived  Count\n",
       "0  female  Not Survived     44\n",
       "1  female      Survived     96\n",
       "2    male  Not Survived    107\n",
       "3    male      Survived     36"
      ]
     },
     "execution_count": 59,
     "metadata": {},
     "output_type": "execute_result"
    }
   ],
   "source": [
    "survival_rate_by_sex_and_sibsp['Survived'] = survival_rate_by_sex_and_sibsp['Survived'].apply(lambda x: survival[x])\n",
    "\n",
    "survival_rate_by_sex_and_sibsp\n",
    "# siblings_gender_plot = sns.barplot(x='Sex', y='Count', hue='Survived', data=survival_rate_by_sex_and_sibsp)\n",
    "\n",
    "# siblings_gender_plot.set_title('Survival rate of having siblings by sex ')\n",
    "\n",
    "# siblings_gender_plot"
   ]
  },
  {
   "cell_type": "code",
   "execution_count": 60,
   "metadata": {
    "_uuid": "f228120c34ffd12cb805a3b9426cd64397cd2f6b"
   },
   "outputs": [
    {
     "data": {
      "text/html": [
       "<div>\n",
       "<style scoped>\n",
       "    .dataframe tbody tr th:only-of-type {\n",
       "        vertical-align: middle;\n",
       "    }\n",
       "\n",
       "    .dataframe tbody tr th {\n",
       "        vertical-align: top;\n",
       "    }\n",
       "\n",
       "    .dataframe thead th {\n",
       "        text-align: right;\n",
       "    }\n",
       "</style>\n",
       "<table border=\"1\" class=\"dataframe\">\n",
       "  <thead>\n",
       "    <tr style=\"text-align: right;\">\n",
       "      <th></th>\n",
       "      <th>Sex</th>\n",
       "      <th>Survived</th>\n",
       "      <th>Count</th>\n",
       "    </tr>\n",
       "  </thead>\n",
       "  <tbody>\n",
       "    <tr>\n",
       "      <th>0</th>\n",
       "      <td>female</td>\n",
       "      <td>Not Survived</td>\n",
       "      <td>37</td>\n",
       "    </tr>\n",
       "    <tr>\n",
       "      <th>1</th>\n",
       "      <td>female</td>\n",
       "      <td>Survived</td>\n",
       "      <td>137</td>\n",
       "    </tr>\n",
       "    <tr>\n",
       "      <th>2</th>\n",
       "      <td>male</td>\n",
       "      <td>Not Survived</td>\n",
       "      <td>361</td>\n",
       "    </tr>\n",
       "    <tr>\n",
       "      <th>3</th>\n",
       "      <td>male</td>\n",
       "      <td>Survived</td>\n",
       "      <td>73</td>\n",
       "    </tr>\n",
       "  </tbody>\n",
       "</table>\n",
       "</div>"
      ],
      "text/plain": [
       "      Sex      Survived  Count\n",
       "0  female  Not Survived     37\n",
       "1  female      Survived    137\n",
       "2    male  Not Survived    361\n",
       "3    male      Survived     73"
      ]
     },
     "execution_count": 60,
     "metadata": {},
     "output_type": "execute_result"
    }
   ],
   "source": [
    "survival_rate_by_sex_and_nosibsp['Survived'] = survival_rate_by_sex_and_nosibsp['Survived'].apply(lambda x: survival[x])\n",
    "\n",
    "survival_rate_by_sex_and_nosibsp"
   ]
  },
  {
   "cell_type": "code",
   "execution_count": 61,
   "metadata": {
    "_uuid": "c5accb4a7d0be22d26beeb2831a48df7c4a62d2a"
   },
   "outputs": [
    {
     "data": {
      "text/plain": [
       "Text(0.5,1,'Survival rate of not having siblings by sex')"
      ]
     },
     "execution_count": 61,
     "metadata": {},
     "output_type": "execute_result"
    },
    {
     "data": {
      "image/png": "[encoded data removed]",
      "text/plain": [
       "<Figure size 720x648 with 2 Axes>"
      ]
     },
     "metadata": {},
     "output_type": "display_data"
    }
   ],
   "source": [
    "fig, ax = plt.subplots(2, figsize=a4_dims)\n",
    "\n",
    "survival_has_sib = sns.barplot(ax=ax[0], x='Sex', y='Count', hue='Survived', data=survival_rate_by_sex_and_sibsp)\n",
    "survival_has_sib.set_title('Survival rate of having siblings by sex')\n",
    "\n",
    "survival_has_nosib = sns.barplot(ax=ax[1], x='Sex', y='Count', hue='Survived', data=survival_rate_by_sex_and_nosibsp)\n",
    "survival_has_nosib.set_title('Survival rate of not having siblings by sex')"
   ]
  },
  {
   "cell_type": "markdown",
   "metadata": {
    "_uuid": "e2eb42ac602bf0619459b620eb9d2164ba484e72"
   },
   "source": [
    "We don't see some drastic changes in comparison, as well, by looking at the siblings/spouse, and with calculating percentages"
   ]
  },
  {
   "cell_type": "code",
   "execution_count": 62,
   "metadata": {
    "_uuid": "633d3e26955aa630848442954aa16bd7d0a57cc0"
   },
   "outputs": [],
   "source": [
    "survival_rate_by_sex_and_sibsp['Count'] = survival_rate_by_sex_and_sibsp['Count'] / survival_rate_by_sex_and_sibsp['Count'].sum()"
   ]
  },
  {
   "cell_type": "code",
   "execution_count": 63,
   "metadata": {
    "_uuid": "4584826620856422109206d31d281d6e7ca4e14a"
   },
   "outputs": [],
   "source": [
    "survival_rate_by_sex_and_nosibsp['Count'] = survival_rate_by_sex_and_nosibsp['Count'] / survival_rate_by_sex_and_nosibsp['Count'].sum()"
   ]
  },
  {
   "cell_type": "code",
   "execution_count": 64,
   "metadata": {
    "_uuid": "ceb235ba6467fdd44d56606c65d4741a6e9ec41a"
   },
   "outputs": [
    {
     "data": {
      "text/html": [
       "<div>\n",
       "<style scoped>\n",
       "    .dataframe tbody tr th:only-of-type {\n",
       "        vertical-align: middle;\n",
       "    }\n",
       "\n",
       "    .dataframe tbody tr th {\n",
       "        vertical-align: top;\n",
       "    }\n",
       "\n",
       "    .dataframe thead th {\n",
       "        text-align: right;\n",
       "    }\n",
       "</style>\n",
       "<table border=\"1\" class=\"dataframe\">\n",
       "  <thead>\n",
       "    <tr style=\"text-align: right;\">\n",
       "      <th></th>\n",
       "      <th>Sex</th>\n",
       "      <th>Survived</th>\n",
       "      <th>Count</th>\n",
       "    </tr>\n",
       "  </thead>\n",
       "  <tbody>\n",
       "    <tr>\n",
       "      <th>0</th>\n",
       "      <td>female</td>\n",
       "      <td>Not Survived</td>\n",
       "      <td>0.060855</td>\n",
       "    </tr>\n",
       "    <tr>\n",
       "      <th>1</th>\n",
       "      <td>female</td>\n",
       "      <td>Survived</td>\n",
       "      <td>0.225329</td>\n",
       "    </tr>\n",
       "    <tr>\n",
       "      <th>2</th>\n",
       "      <td>male</td>\n",
       "      <td>Not Survived</td>\n",
       "      <td>0.593750</td>\n",
       "    </tr>\n",
       "    <tr>\n",
       "      <th>3</th>\n",
       "      <td>male</td>\n",
       "      <td>Survived</td>\n",
       "      <td>0.120066</td>\n",
       "    </tr>\n",
       "  </tbody>\n",
       "</table>\n",
       "</div>"
      ],
      "text/plain": [
       "      Sex      Survived     Count\n",
       "0  female  Not Survived  0.060855\n",
       "1  female      Survived  0.225329\n",
       "2    male  Not Survived  0.593750\n",
       "3    male      Survived  0.120066"
      ]
     },
     "execution_count": 64,
     "metadata": {},
     "output_type": "execute_result"
    }
   ],
   "source": [
    "survival_rate_by_sex_and_nosibsp"
   ]
  },
  {
   "cell_type": "code",
   "execution_count": 65,
   "metadata": {
    "_uuid": "f00debeab064f1e100563273bb5842ab8b47d093"
   },
   "outputs": [
    {
     "data": {
      "text/html": [
       "<div>\n",
       "<style scoped>\n",
       "    .dataframe tbody tr th:only-of-type {\n",
       "        vertical-align: middle;\n",
       "    }\n",
       "\n",
       "    .dataframe tbody tr th {\n",
       "        vertical-align: top;\n",
       "    }\n",
       "\n",
       "    .dataframe thead th {\n",
       "        text-align: right;\n",
       "    }\n",
       "</style>\n",
       "<table border=\"1\" class=\"dataframe\">\n",
       "  <thead>\n",
       "    <tr style=\"text-align: right;\">\n",
       "      <th></th>\n",
       "      <th>Sex</th>\n",
       "      <th>Survived</th>\n",
       "      <th>Count</th>\n",
       "    </tr>\n",
       "  </thead>\n",
       "  <tbody>\n",
       "    <tr>\n",
       "      <th>0</th>\n",
       "      <td>female</td>\n",
       "      <td>Not Survived</td>\n",
       "      <td>0.155477</td>\n",
       "    </tr>\n",
       "    <tr>\n",
       "      <th>1</th>\n",
       "      <td>female</td>\n",
       "      <td>Survived</td>\n",
       "      <td>0.339223</td>\n",
       "    </tr>\n",
       "    <tr>\n",
       "      <th>2</th>\n",
       "      <td>male</td>\n",
       "      <td>Not Survived</td>\n",
       "      <td>0.378092</td>\n",
       "    </tr>\n",
       "    <tr>\n",
       "      <th>3</th>\n",
       "      <td>male</td>\n",
       "      <td>Survived</td>\n",
       "      <td>0.127208</td>\n",
       "    </tr>\n",
       "  </tbody>\n",
       "</table>\n",
       "</div>"
      ],
      "text/plain": [
       "      Sex      Survived     Count\n",
       "0  female  Not Survived  0.155477\n",
       "1  female      Survived  0.339223\n",
       "2    male  Not Survived  0.378092\n",
       "3    male      Survived  0.127208"
      ]
     },
     "execution_count": 65,
     "metadata": {},
     "output_type": "execute_result"
    }
   ],
   "source": [
    "# NOTE: Research impact of sibling/spouse on age groups\n",
    "\n",
    "survival_rate_by_sex_and_sibsp"
   ]
  },
  {
   "cell_type": "markdown",
   "metadata": {
    "_uuid": "826e46d1d74c9d7be931b646a4909dc480d47b27"
   },
   "source": [
    "There are no strong impacts of having a sibling. I believe that because there were no more casualties in the has_siblings dataframe, the proportion of them both would tend to some constant *k*, so in the final model, we won't include the sibling/spouse part (bias posibility, unlikely I believe).\n",
    "\n",
    "Next, we will do parent/child part of analytics. I believe it will have much more impact than sibling/spouse part."
   ]
  },
  {
   "cell_type": "markdown",
   "metadata": {
    "_uuid": "38ca3c0363bcca0868f3eff683ac9a50effa74b8"
   },
   "source": [
    "## TODO: Parents/Child analytics"
   ]
  },
  {
   "cell_type": "code",
   "execution_count": 66,
   "metadata": {
    "_uuid": "c6fcd8b11d1eb4d5cde98be0d3f041b758d363ec"
   },
   "outputs": [],
   "source": []
  }
 ],
 "metadata": {
  "kernelspec": {
   "display_name": "Python 3",
   "language": "python",
   "name": "python3"
  },
  "language_info": {
   "codemirror_mode": {
    "name": "ipython",
    "version": 3
   },
   "file_extension": ".py",
   "mimetype": "text/x-python",
   "name": "python",
   "nbconvert_exporter": "python",
   "pygments_lexer": "ipython3",
   "version": "3.6.6"
  }
 },
 "nbformat": 4,
 "nbformat_minor": 1
}
